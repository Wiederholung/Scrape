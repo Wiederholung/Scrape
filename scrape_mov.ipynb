{
 "cells": [
  {
   "cell_type": "markdown",
   "metadata": {},
   "source": [
    "# JavaScript 逆向爬虫实战：[Scrape Center](https://scrape.center/) - [spa6](https://spa6.scrape.center/)\n",
    "\n",
    "## 目标\n",
    "\n",
    "调用网站数据接口，获取电影详情页信息。\n",
    "\n",
    "<img src=\"https://web.metattri.com/i/2023/05/28/6473050758982.png\" alt=\"image-20230528153846167\" style=\"zoom:67%;\" />"
   ]
  },
  {
   "cell_type": "markdown",
   "source": [
    "### 分析\n",
    "\n",
    "1. 该电影网站的数据通过 [Ajax](https://en.wikipedia.org/wiki/Ajax_(programming)) 加载，电影详情页数据接口 (URL)\n",
    "   的返回值 (JSON) 包含指定电影的全部信息，与电影详情页对应，如上图的右侧所示。该接口有如下结构：\n",
    "\n",
    "   > <font size=5><font color=#5b9bd5>https</font>://<font color=#ffc000>spa6.scrape.center</font><font color=#70ad47>/api/movie/{encrypt_id}</font>/<font color=#ed7d31>?token={token}</font></font>\n",
    "   >\n",
    "   > - <font color=#5b9bd5>**protocol:** https</font>\n",
    "   > - <font color=#ffc000>**host:** spa6.scrape.center</font>\n",
    "   > - <font color=#70ad47>**path:**</font> `encrypt_id` 代表经过**加密**的电影唯一标识符（下称电影的原始唯一标识符为电影\n",
    "       id）\n",
    "   > - <font color=#ed7d31>**query:**</font> URL 设有过期策略，这意味着 `token` 具有**时效性**\n",
    "\n",
    "2. 网站还使用了电影列表的数据接口，该接口的返回值同样是 JSON 格式，包含了指定电影数量和偏移量的**电影 id** 和电影摘要等数据。\n",
    "   例如 <font color=#ed7d31>query = ?limit=**2**&offset=0&token=NTU...x</font> 的返回值如下：\n",
    "\n",
    "    ```JSON\n",
    "    {\n",
    "      \"count\": 101,\n",
    "      \"results\": [\n",
    "        {\n",
    "          \"id\": 1,\n",
    "          \"name\": \"霸王别姬\",\n",
    "          \"alias\": \"Farewell My Concubine\",\n",
    "          \"cover\": \"https://p0.meituan.net/...c\",\n",
    "          \"categories\": [\"剧情\", \"爱情\"],\n",
    "          \"published_at\": \"1993-07-26\",\n",
    "          \"minute\": 171,\n",
    "          \"score\": 9.5,\n",
    "          \"regions\": [\"中国内地\", \"中国香港\"]\n",
    "        },\n",
    "        {\n",
    "          \"id\": 2,\n",
    "          \"name\": \"这个杀手不太冷\",\n",
    "          \"alias\": \"Léon\",\n",
    "          \"cover\": \"https://p1.meituan.net/movie/...c\",\n",
    "          \"categories\": [\"剧情\", \"动作\", \"犯罪\"],\n",
    "          \"published_at\": \"1994-09-14\",\n",
    "          \"minute\": 110,\n",
    "          \"score\": 9.5,\n",
    "          \"regions\": [\"法国\"]\n",
    "        }\n",
    "      ]\n",
    "    }\n",
    "    ```\n",
    "\n",
    "   该接口 (URL) 结构如下：\n",
    "\n",
    "   > <font size=5><font color=#5b9bd5>https</font>://<font color=#ffc000>spa6.scrape.center</font><font color=#70ad47>/api/movie</font>/<font color=#ed7d31>?limit={limit}&offset={offset}&token={token}</font></font>\n",
    "   >\n",
    "   > <font color=#ed7d31>**query**</font> 字段有三个参数，分别是：\n",
    "   >\n",
    "   >   - `limit`: 列表中电影数量\n",
    "   >   - `offset`: 偏移量\n",
    "   >   - `token`: 列表页 token\n",
    "\n",
    "3. 该网站对 JavaScript 代码进行了[**混淆**](https://en.wikipedia.org/wiki/Obfuscation_(software))\n",
    "\n",
    "因此，我们需要根据 JavaScript 代码逆向解析出 `encrypt_id` 和 `token` 的生成方法，并实现，然后再调用数据接口获取电影详情页信息。"
   ],
   "metadata": {
    "collapsed": false
   }
  },
  {
   "cell_type": "markdown",
   "metadata": {},
   "source": [
    "## 导入依赖库并禁用 SSL 警告"
   ]
  },
  {
   "cell_type": "code",
   "execution_count": 13,
   "metadata": {
    "collapsed": true,
    "ExecuteTime": {
     "end_time": "2023-05-28T12:24:23.457373200Z",
     "start_time": "2023-05-28T12:24:23.333966Z"
    }
   },
   "outputs": [],
   "source": [
    "import base64\n",
    "import hashlib\n",
    "import random\n",
    "import time\n",
    "from typing import List, Any\n",
    "\n",
    "import requests\n",
    "import urllib3\n",
    "\n",
    "urllib3.disable_warnings()"
   ]
  },
  {
   "cell_type": "markdown",
   "metadata": {},
   "source": [
    "## 定义常量\n",
    "\n",
    "- INDEX_URL：电影列表 URL\n",
    "    - 参数\n",
    "        - `limit`：电影数量\n",
    "        - `offset`：偏移量\n",
    "        - `token`：列表页 token\n",
    "- DETAIL_URL：电影详情 URL\n",
    "    - 参数\n",
    "        - `encrypt_id`：电影 id（加密后）\n",
    "        - `token`：详情页 token\n",
    "- SECRET：密钥"
   ]
  },
  {
   "cell_type": "code",
   "execution_count": 14,
   "metadata": {
    "ExecuteTime": {
     "end_time": "2023-05-28T12:24:23.476919700Z",
     "start_time": "2023-05-28T12:24:23.343413800Z"
    }
   },
   "outputs": [],
   "source": [
    "INDEX_URL = 'https://spa6.scrape.center/api/movie?limit={limit}&offset={offset}&token={token}'\n",
    "DETAIL_URL = 'https://spa6.scrape.center/api/movie/{encrypt_id}?token={token}'\n",
    "SECRET = 'ef34#teuq0btua#(-57w1q5o5--j@98xygimlyfxs*-!i-0-mb'"
   ]
  },
  {
   "cell_type": "markdown",
   "metadata": {},
   "source": [
    "## 获取 token\n",
    "\n",
    "- 参数：<font color=#70ad47>path</font> (e.g. **/api/movie**)\n",
    "- 返回：`token`（base64 编码后的字符串）"
   ]
  },
  {
   "cell_type": "code",
   "execution_count": 15,
   "metadata": {
    "ExecuteTime": {
     "end_time": "2023-05-28T12:24:23.496610500Z",
     "start_time": "2023-05-28T12:24:23.350385500Z"
    }
   },
   "outputs": [
    {
     "name": "stdout",
     "output_type": "stream",
     "text": [
      "1. 拼接 path 和时间戳：\t\t /api/movie,1685276663\n",
      "2. 对上一步结果进行 SHA1 加密：\t 1989dd9bef3c472697d3afc83de5df9d246c5d15\n",
      "3. 拼接加密后的字符串和时间戳：\t 1989dd9bef3c472697d3afc83de5df9d246c5d15,1685276663\n",
      "4. 对上一步结果进行 base64 编码： MTk4OWRkOWJlZjNjNDcyNjk3ZDNhZmM4M2RlNWRmOWQyNDZjNWQxNSwxNjg1Mjc2NjYz \n",
      "\n"
     ]
    },
    {
     "data": {
      "text/plain": "'MTk4OWRkOWJlZjNjNDcyNjk3ZDNhZmM4M2RlNWRmOWQyNDZjNWQxNSwxNjg1Mjc2NjYz'"
     },
     "execution_count": 15,
     "metadata": {},
     "output_type": "execute_result"
    }
   ],
   "source": [
    "def get_token(args: List[Any]):\n",
    "    # 获取时间戳\n",
    "    timestamp = str(int(time.time()))\n",
    "    # 将时间戳加入参数列表\n",
    "    args.append(timestamp)\n",
    "    sign1 = ','.join(args)\n",
    "    print('1. 拼接 path 和时间戳：\\t\\t', sign1)\n",
    "    # 将参数列表转为字符串并进行SHA1加密\n",
    "    sign2 = hashlib.sha1(sign1.encode('utf-8')).hexdigest()\n",
    "    print('2. 对上一步结果进行 SHA1 加密：\\t', sign2)\n",
    "    # 将加密后的字符串和时间戳拼接并进行base64编码\n",
    "    sign3 = sign2 + ',' + timestamp\n",
    "    print('3. 拼接加密后的字符串和时间戳：\\t', sign3)\n",
    "    token = base64.b64encode(sign3.encode('utf-8')).decode('utf-8')\n",
    "    print('4. 对上一步结果进行 base64 编码：', token, '\\n')\n",
    "    return token\n",
    "\n",
    "\n",
    "get_token(args=['/api/movie'])"
   ]
  },
  {
   "cell_type": "markdown",
   "metadata": {
    "ExecuteTime": {
     "end_time": "2023-05-22T09:11:28.402395900Z",
     "start_time": "2023-05-22T09:11:28.384684500Z"
    }
   },
   "source": [
    "## 获取电影列表（Requests 实现）\n",
    "\n",
    "- 参数：无\n",
    "- 返回：JSON 格式的电影列表\n",
    "\n",
    "### 方法\n",
    "\n",
    "1. 获取 token\n",
    "2. 构造 URL：limit=10, offset=0, token=token\n",
    "3. 获取 URL 的 response ，提取电影总数\n",
    "4. 根据电影总数构造新的 URL：limit=mov_count, offset=0, token=token\n",
    "5. 接收新的 URL 的 response ，提取 JSON 格式的电影列表\n",
    "6. 返回电影列表"
   ]
  },
  {
   "cell_type": "code",
   "execution_count": 16,
   "metadata": {
    "ExecuteTime": {
     "end_time": "2023-05-28T12:24:30.551652700Z",
     "start_time": "2023-05-28T12:24:23.368363200Z"
    }
   },
   "outputs": [
    {
     "name": "stdout",
     "output_type": "stream",
     "text": [
      "1. 拼接 path 和时间戳：\t\t /api/movie,1685276663\n",
      "2. 对上一步结果进行 SHA1 加密：\t 1989dd9bef3c472697d3afc83de5df9d246c5d15\n",
      "3. 拼接加密后的字符串和时间戳：\t 1989dd9bef3c472697d3afc83de5df9d246c5d15,1685276663\n",
      "4. 对上一步结果进行 base64 编码： MTk4OWRkOWJlZjNjNDcyNjk3ZDNhZmM4M2RlNWRmOWQyNDZjNWQxNSwxNjg1Mjc2NjYz \n",
      "\n"
     ]
    },
    {
     "data": {
      "text/plain": "{'count': 101,\n 'results': [{'id': 1,\n   'name': '霸王别姬',\n   'alias': 'Farewell My Concubine',\n   'cover': 'https://p0.meituan.net/movie/ce4da3e03e655b5b88ed31b5cd7896cf62472.jpg@464w_644h_1e_1c',\n   'categories': ['剧情', '爱情'],\n   'published_at': '1993-07-26',\n   'minute': 171,\n   'score': 9.5,\n   'regions': ['中国内地', '中国香港']},\n  {'id': 2,\n   'name': '这个杀手不太冷',\n   'alias': 'Léon',\n   'cover': 'https://p1.meituan.net/movie/6bea9af4524dfbd0b668eaa7e187c3df767253.jpg@464w_644h_1e_1c',\n   'categories': ['剧情', '动作', '犯罪'],\n   'published_at': '1994-09-14',\n   'minute': 110,\n   'score': 9.5,\n   'regions': ['法国']},\n  {'id': 3,\n   'name': '肖申克的救赎',\n   'alias': 'The Shawshank Redemption',\n   'cover': 'https://p0.meituan.net/movie/283292171619cdfd5b240c8fd093f1eb255670.jpg@464w_644h_1e_1c',\n   'categories': ['剧情', '犯罪'],\n   'published_at': '1994-09-10',\n   'minute': 142,\n   'score': 9.5,\n   'regions': ['美国']},\n  {'id': 4,\n   'name': '泰坦尼克号',\n   'alias': 'Titanic',\n   'cover': 'https://p1.meituan.net/movie/b607fba7513e7f15eab170aac1e1400d878112.jpg@464w_644h_1e_1c',\n   'categories': ['剧情', '爱情', '灾难'],\n   'published_at': '1998-04-03',\n   'minute': 194,\n   'score': 9.5,\n   'regions': ['美国']},\n  {'id': 5,\n   'name': '罗马假日',\n   'alias': 'Roman Holiday',\n   'cover': 'https://p0.meituan.net/movie/289f98ceaa8a0ae737d3dc01cd05ab052213631.jpg@464w_644h_1e_1c',\n   'categories': ['剧情', '喜剧', '爱情'],\n   'published_at': '1953-08-20',\n   'minute': 118,\n   'score': 9.5,\n   'regions': ['美国']},\n  {'id': 6,\n   'name': '唐伯虎点秋香',\n   'alias': 'Flirting Scholar',\n   'cover': 'https://p0.meituan.net/movie/da64660f82b98cdc1b8a3804e69609e041108.jpg@464w_644h_1e_1c',\n   'categories': ['喜剧', '爱情', '古装'],\n   'published_at': '1993-07-01',\n   'minute': 102,\n   'score': 9.5,\n   'regions': ['中国香港']},\n  {'id': 7,\n   'name': '乱世佳人',\n   'alias': 'Gone with the Wind',\n   'cover': 'https://p0.meituan.net/movie/223c3e186db3ab4ea3bb14508c709400427933.jpg@464w_644h_1e_1c',\n   'categories': ['剧情', '爱情', '历史', '战争'],\n   'published_at': '1939-12-15',\n   'minute': 238,\n   'score': 9.5,\n   'regions': ['美国']},\n  {'id': 8,\n   'name': '喜剧之王',\n   'alias': 'The King of Comedy',\n   'cover': 'https://p0.meituan.net/movie/1f0d671f6a37f9d7b015e4682b8b113e174332.jpg@464w_644h_1e_1c',\n   'categories': ['剧情', '喜剧', '爱情'],\n   'published_at': '1999-02-13',\n   'minute': 85,\n   'score': 9.5,\n   'regions': ['中国香港']},\n  {'id': 9,\n   'name': '楚门的世界',\n   'alias': 'The Truman Show',\n   'cover': 'https://p0.meituan.net/movie/8959888ee0c399b0fe53a714bc8a5a17460048.jpg@464w_644h_1e_1c',\n   'categories': ['剧情', '科幻'],\n   'published_at': None,\n   'minute': 103,\n   'score': 9.0,\n   'regions': ['美国']},\n  {'id': 10,\n   'name': '狮子王',\n   'alias': 'The Lion King',\n   'cover': 'https://p0.meituan.net/movie/27b76fe6cf3903f3d74963f70786001e1438406.jpg@464w_644h_1e_1c',\n   'categories': ['动画', '歌舞', '冒险'],\n   'published_at': '1995-07-15',\n   'minute': 89,\n   'score': 9.0,\n   'regions': ['美国']},\n  {'id': 11,\n   'name': 'V字仇杀队',\n   'alias': 'V for Vendetta',\n   'cover': 'https://p1.meituan.net/movie/06ec3c1c647942b1e40bca84036014e9490863.jpg@464w_644h_1e_1c',\n   'categories': ['剧情', '动作', '科幻', '惊悚'],\n   'published_at': '2005-12-11',\n   'minute': 132,\n   'score': 8.9,\n   'regions': ['美国', '英国', '德国']},\n  {'id': 12,\n   'name': '少年派的奇幻漂流',\n   'alias': 'Life of Pi',\n   'cover': 'https://p0.meituan.net/movie/34998e31c6d07475f1add6b8b16fd21d192579.jpg@464w_644h_1e_1c',\n   'categories': ['剧情', '奇幻', '冒险'],\n   'published_at': '2012-11-22',\n   'minute': 127,\n   'score': 8.9,\n   'regions': ['美国', '中国台湾', '英国', '加拿大']},\n  {'id': 13,\n   'name': '美丽心灵',\n   'alias': 'A Beautiful Mind',\n   'cover': 'https://p0.meituan.net/movie/7b7d1f8aa36d7a15463ce6942708a1a7265296.jpg@464w_644h_1e_1c',\n   'categories': ['剧情', '传记'],\n   'published_at': '2001-12-13',\n   'minute': 135,\n   'score': 8.8,\n   'regions': ['美国']},\n  {'id': 14,\n   'name': '初恋这件小事',\n   'alias': 'สิ่งเล็กเล็กที่เรียกว่า...รัก',\n   'cover': 'https://p1.meituan.net/movie/05bc2f0ccf97aacfa64fcac4f237cf8082385.jpg@464w_644h_1e_1c',\n   'categories': ['喜剧', '爱情'],\n   'published_at': '2012-06-05',\n   'minute': 118,\n   'score': 8.9,\n   'regions': ['泰国']},\n  {'id': 15,\n   'name': '借东西的小人阿莉埃蒂',\n   'alias': '借りぐらしのアリエッティ',\n   'cover': 'https://p1.meituan.net/movie/640cc32445df972b066c9a04b194da141104515.jpg@464w_644h_1e_1c',\n   'categories': ['动画', '奇幻', '冒险'],\n   'published_at': '2010-07-17',\n   'minute': 94,\n   'score': 8.8,\n   'regions': ['日本']},\n  {'id': 16,\n   'name': '一一',\n   'alias': 'Yi yi: A One and a Two',\n   'cover': 'https://p0.meituan.net/movie/6cb23356f9d8e0b506349561c633310d102189.jpg@464w_644h_1e_1c',\n   'categories': ['剧情', '爱情', '家庭'],\n   'published_at': '2000-05-15',\n   'minute': 173,\n   'score': 8.8,\n   'regions': ['中国台湾', '日本']},\n  {'id': 17,\n   'name': '美丽人生',\n   'alias': 'La vita è bella',\n   'cover': 'https://p1.meituan.net/movie/580d81a2c78bf204f45323ddb4244b6c6821175.jpg@464w_644h_1e_1c',\n   'categories': ['战争', '剧情', '爱情'],\n   'published_at': '2020-01-03',\n   'minute': 116,\n   'score': 9.1,\n   'regions': ['意大利']},\n  {'id': 18,\n   'name': '海上钢琴师',\n   'alias': \"La leggenda del pianista sull'oceano\",\n   'cover': 'https://p0.meituan.net/movie/609e45bd40346eb8b927381be8fb27a61760914.jpg@464w_644h_1e_1c',\n   'categories': ['剧情', '爱情', '音乐'],\n   'published_at': '2019-11-15',\n   'minute': 126,\n   'score': 9.1,\n   'regions': ['意大利']},\n  {'id': 19,\n   'name': '千与千寻',\n   'alias': '千と千尋の神隠し',\n   'cover': 'https://p0.meituan.net/movie/30b20139e68c46d02e0893277d633b701292458.jpg@464w_644h_1e_1c',\n   'categories': ['动画', '冒险', '奇幻', '家庭'],\n   'published_at': '2019-06-21',\n   'minute': 125,\n   'score': 9.1,\n   'regions': ['日本']},\n  {'id': 20,\n   'name': '迁徙的鸟',\n   'alias': 'The Travelling Birds',\n   'cover': 'https://p1.meituan.net/movie/a1634f4e49c8517ae0a3e4adcac6b0dc43994.jpg@464w_644h_1e_1c',\n   'categories': ['纪录片'],\n   'published_at': '2001-12-12',\n   'minute': 98,\n   'score': 9.1,\n   'regions': ['法国', '德国', '意大利', '西班牙', '瑞士']},\n  {'id': 21,\n   'name': '黄金三镖客',\n   'alias': 'Il buono, il brutto, il cattivo.',\n   'cover': 'https://p0.meituan.net/movie/cd18ed2c5cda9e71e17e5e6ef61ced172912303.jpg@464w_644h_1e_1c',\n   'categories': ['西部', '冒险'],\n   'published_at': '1966-12-23',\n   'minute': 161,\n   'score': 9.1,\n   'regions': ['意大利', '西班牙', '西德']},\n  {'id': 22,\n   'name': '海洋',\n   'alias': 'Océans',\n   'cover': 'https://p1.meituan.net/movie/a19a7f64a10e133b68de87d2f3bc46f3111417.jpg@464w_644h_1e_1c',\n   'categories': ['纪录片'],\n   'published_at': '2011-08-12',\n   'minute': 104,\n   'score': 9.1,\n   'regions': ['法国', '瑞士', '西班牙', '美国', '阿联酋']},\n  {'id': 23,\n   'name': '我爱你',\n   'alias': '그대를 사랑합니다',\n   'cover': 'https://p1.meituan.net/movie/ed50b58bf636d207c56989872a91f4cf305138.jpg@464w_644h_1e_1c',\n   'categories': ['剧情', '爱情'],\n   'published_at': '2011-02-17',\n   'minute': 118,\n   'score': 9.1,\n   'regions': ['韩国']},\n  {'id': 24,\n   'name': '阿飞正传',\n   'alias': 'Days of Being Wild',\n   'cover': 'https://p0.meituan.net/movie/85215b28d568ea8e2c97766edd95f890210522.jpg@464w_644h_1e_1c',\n   'categories': ['剧情', '爱情', '犯罪'],\n   'published_at': '2018-06-25',\n   'minute': 94,\n   'score': 9.1,\n   'regions': ['中国香港']},\n  {'id': 36,\n   'name': '7号房的礼物',\n   'alias': '7번방의 선물',\n   'cover': 'https://p1.meituan.net/movie/a53a0200eba15ba483c905c872db9bf4331099.jpg@464w_644h_1e_1c',\n   'categories': ['剧情', '喜剧', '家庭'],\n   'published_at': '2013-01-23',\n   'minute': 127,\n   'score': 8.8,\n   'regions': ['韩国']},\n  {'id': 25,\n   'name': '爱·回家',\n   'alias': '집으로...',\n   'cover': 'https://p0.meituan.net/movie/de1142a5dceb901eb939eb0bcfc2f88470909.jpg@464w_644h_1e_1c',\n   'categories': ['剧情', '家庭'],\n   'published_at': '2002-04-05',\n   'minute': 80,\n   'score': 9.1,\n   'regions': ['韩国']},\n  {'id': 26,\n   'name': '龙猫',\n   'alias': 'となりのトトロ',\n   'cover': 'https://p0.meituan.net/movie/c304c687e287c7c2f9e22cf78257872d277201.jpg@464w_644h_1e_1c',\n   'categories': ['动画', '冒险', '奇幻', '家庭'],\n   'published_at': '2018-12-14',\n   'minute': 86,\n   'score': 9.1,\n   'regions': ['日本']},\n  {'id': 27,\n   'name': '七武士',\n   'alias': '七人の侍',\n   'cover': 'https://p1.meituan.net/movie/4ffca83fd972f71e291f8ea8d78a4b58594878.jpg@464w_644h_1e_1c',\n   'categories': ['剧情', '动作', '冒险'],\n   'published_at': '1954-04-26',\n   'minute': 207,\n   'score': 8.8,\n   'regions': ['日本']},\n  {'id': 28,\n   'name': '美国往事',\n   'alias': 'Once Upon a Time in America',\n   'cover': 'https://p1.meituan.net/movie/92198a6fc8c3f5d13aa1bdf203572c0f99438.jpg@464w_644h_1e_1c',\n   'categories': ['剧情', '犯罪'],\n   'published_at': '2015-04-23',\n   'minute': 229,\n   'score': 8.8,\n   'regions': ['意大利', '美国']},\n  {'id': 29,\n   'name': '完美的世界',\n   'alias': 'A Perfect World',\n   'cover': 'https://p1.meituan.net/movie/30310858fdab34c7a17cfd7ec8ad8bfc112201.jpg@464w_644h_1e_1c',\n   'categories': ['剧情', '犯罪'],\n   'published_at': '1993-11-24',\n   'minute': 138,\n   'score': 8.8,\n   'regions': ['美国']},\n  {'id': 30,\n   'name': '上帝之城',\n   'alias': 'Cidade de Deus',\n   'cover': 'https://p1.meituan.net/movie/b553d13f30100db731ab6cf45668e52d94703.jpg@464w_644h_1e_1c',\n   'categories': ['剧情', '犯罪'],\n   'published_at': None,\n   'minute': 130,\n   'score': 8.8,\n   'regions': ['巴西', '法国']},\n  {'id': 31,\n   'name': '辩护人',\n   'alias': '변호인',\n   'cover': 'https://p0.meituan.net/movie/1433d81b10d116239dbbf02a06ac3c19265682.jpg@464w_644h_1e_1c',\n   'categories': ['剧情'],\n   'published_at': '2013-12-18',\n   'minute': 127,\n   'score': 8.8,\n   'regions': ['韩国']},\n  {'id': 32,\n   'name': '忠犬八公物语',\n   'alias': 'ハチ公物語',\n   'cover': 'https://p0.meituan.net/movie/2d42e00d7ee59ff5bd574f93b8558aa726665.jpg@464w_644h_1e_1c',\n   'categories': ['剧情'],\n   'published_at': '1987-08-01',\n   'minute': 107,\n   'score': 8.8,\n   'regions': ['日本']},\n  {'id': 33,\n   'name': '海豚湾',\n   'alias': 'The Cove',\n   'cover': 'https://p0.meituan.net/movie/eb2ea56996f21e7fb47b1a0736c7f177258901.jpg@464w_644h_1e_1c',\n   'categories': ['纪录片'],\n   'published_at': '2009-07-31',\n   'minute': 92,\n   'score': 8.8,\n   'regions': ['美国']},\n  {'id': 34,\n   'name': '英雄本色',\n   'alias': 'A Better Tomorrow',\n   'cover': 'https://p0.meituan.net/movie/3e5f5f3aa4b7e5576521e26c2c7c894d253975.jpg@464w_644h_1e_1c',\n   'categories': ['剧情', '动作', '犯罪'],\n   'published_at': '2017-11-17',\n   'minute': 95,\n   'score': 8.8,\n   'regions': ['中国香港']},\n  {'id': 35,\n   'name': '恐怖直播',\n   'alias': '더 테러 라이브',\n   'cover': 'https://p0.meituan.net/movie/1da0af2570fe697d38c4a37fdfded19b254936.jpg@464w_644h_1e_1c',\n   'categories': ['剧情', '悬疑', '犯罪'],\n   'published_at': '2013-07-31',\n   'minute': 97,\n   'score': 8.8,\n   'regions': ['韩国']},\n  {'id': 37,\n   'name': '窃听风暴',\n   'alias': 'Das Leben der Anderen',\n   'cover': 'https://p0.meituan.net/movie/3985eaf3858bea0f2a3d966bf7ee2103178217.jpg@464w_644h_1e_1c',\n   'categories': ['剧情', '悬疑'],\n   'published_at': '2006-03-23',\n   'minute': 137,\n   'score': 8.8,\n   'regions': ['德国']},\n  {'id': 38,\n   'name': '时空恋旅人',\n   'alias': 'About Time',\n   'cover': 'https://p0.meituan.net/movie/6d8491386d07cda91967a6fbbd0d0788294693.jpg@464w_644h_1e_1c',\n   'categories': ['喜剧', '爱情', '奇幻'],\n   'published_at': '2013-09-04',\n   'minute': 123,\n   'score': 8.8,\n   'regions': ['英国']},\n  {'id': 39,\n   'name': '穿条纹睡衣的男孩',\n   'alias': 'The Boy in the Striped Pajamas',\n   'cover': 'https://p1.meituan.net/movie/d5970e36c8868a4b746c80f3b3f8a404174615.jpg@464w_644h_1e_1c',\n   'categories': ['剧情', '战争'],\n   'published_at': '2008-08-28',\n   'minute': 94,\n   'score': 8.8,\n   'regions': ['英国', '美国']},\n  {'id': 40,\n   'name': '教父',\n   'alias': 'The Godfather',\n   'cover': 'https://p0.meituan.net/movie/1199dc6273680f175fd9b06c9c36d08a219658.jpg@464w_644h_1e_1c',\n   'categories': ['剧情', '犯罪'],\n   'published_at': '2015-04-18',\n   'minute': 175,\n   'score': 8.8,\n   'regions': ['美国']},\n  {'id': 41,\n   'name': '萤火之森',\n   'alias': '蛍火の杜へ',\n   'cover': 'https://p1.meituan.net/movie/4c55f3bf5fa9660db3cb7014651a0950267034.jpg@464w_644h_1e_1c',\n   'categories': ['剧情', '爱情', '动画', '奇幻'],\n   'published_at': '2011-09-17',\n   'minute': 45,\n   'score': 8.8,\n   'regions': ['日本']},\n  {'id': 42,\n   'name': '素媛',\n   'alias': '소원',\n   'cover': 'https://p0.meituan.net/movie/19653e8af59cf473cd40f9ccc0658d93692304.jpg@464w_644h_1e_1c',\n   'categories': ['剧情'],\n   'published_at': '2013-10-02',\n   'minute': 123,\n   'score': 8.8,\n   'regions': ['韩国']},\n  {'id': 43,\n   'name': '小鞋子',\n   'alias': 'بچههای آسمان',\n   'cover': 'https://p1.meituan.net/movie/135c612860fae899df2220149664d97a173555.jpg@464w_644h_1e_1c',\n   'categories': ['剧情', '家庭'],\n   'published_at': None,\n   'minute': 89,\n   'score': 8.8,\n   'regions': ['伊朗']},\n  {'id': 44,\n   'name': '熔炉',\n   'alias': '도가니',\n   'cover': 'https://p1.meituan.net/movie/2a0783b4fd95566568f24adfad2181bb5392280.jpg@464w_644h_1e_1c',\n   'categories': ['剧情'],\n   'published_at': '2011-09-22',\n   'minute': 125,\n   'score': 8.8,\n   'regions': ['韩国']},\n  {'id': 45,\n   'name': '大话西游之大圣娶亲',\n   'alias': 'A Chinese Odyssey Part Two - Cinderella',\n   'cover': 'https://p1.meituan.net/moviemachine/508056769092059fe43a611b949f27d14863831.jpg@464w_644h_1e_1c',\n   'categories': ['喜剧', '爱情', '奇幻'],\n   'published_at': '2014-10-24',\n   'minute': 110,\n   'score': 8.9,\n   'regions': ['中国香港', '中国大陆']},\n  {'id': 46,\n   'name': '新龙门客栈',\n   'alias': 'New Dragon Gate Inn',\n   'cover': 'https://p1.meituan.net/movie/7833126c8c21a11571bb52fbdece0acb811449.jpg@464w_644h_1e_1c',\n   'categories': ['动作', '爱情', '武侠', '古装'],\n   'published_at': '2012-02-24',\n   'minute': 88,\n   'score': 8.9,\n   'regions': ['中国香港', '中国大陆']},\n  {'id': 47,\n   'name': '触不可及',\n   'alias': 'Intouchables',\n   'cover': 'https://p1.meituan.net/movie/1e700e53e4fe29dd5942381bb353c8532239179.jpg@464w_644h_1e_1c',\n   'categories': ['剧情', '喜剧'],\n   'published_at': '2011-11-02',\n   'minute': 112,\n   'score': 8.9,\n   'regions': ['法国']},\n  {'id': 48,\n   'name': '钢琴家',\n   'alias': 'The Pianist',\n   'cover': 'https://p0.meituan.net/movie/bcbe59fc51580317adf94537a61a1a26142090.jpg@464w_644h_1e_1c',\n   'categories': ['剧情', '音乐', '传记', '历史', '战争'],\n   'published_at': '2002-05-24',\n   'minute': 150,\n   'score': 8.9,\n   'regions': ['法国', '德国', '英国', '波兰']},\n  {'id': 49,\n   'name': '本杰明·巴顿奇事',\n   'alias': 'The Curious Case of Benjamin Button',\n   'cover': 'https://p0.meituan.net/movie/2526f77c650bf7cf3d5ee2dccdeac332244951.jpg@464w_644h_1e_1c',\n   'categories': ['剧情', '爱情', '奇幻'],\n   'published_at': '2008-12-25',\n   'minute': 166,\n   'score': 8.9,\n   'regions': ['美国']},\n  {'id': 50,\n   'name': '倩女幽魂',\n   'alias': 'A Chinese Ghost Story',\n   'cover': 'https://p1.meituan.net/movie/96d98200d2afb4b87ff189f9c15b6545568339.jpg@464w_644h_1e_1c',\n   'categories': ['爱情', '奇幻', '武侠', '古装'],\n   'published_at': '2011-04-30',\n   'minute': 98,\n   'score': 8.9,\n   'regions': ['中国香港']},\n  {'id': 51,\n   'name': '哈利·波特与死亡圣器（下）',\n   'alias': 'Harry Potter and the Deathly Hallows: Part 2',\n   'cover': 'https://p1.meituan.net/movie/bb0eca029cd25329776a4549b3fbe262924727.jpg@464w_644h_1e_1c',\n   'categories': ['剧情', '悬疑', '奇幻', '冒险'],\n   'published_at': '2011-08-04',\n   'minute': 130,\n   'score': 8.9,\n   'regions': ['英国', '美国']},\n  {'id': 52,\n   'name': '甜蜜蜜',\n   'alias': 'Comrades: Almost a Love Story',\n   'cover': 'https://p1.meituan.net/movie/0b0d45b58946078dd24d4945dd6be3b51329411.jpg@464w_644h_1e_1c',\n   'categories': ['剧情', '爱情'],\n   'published_at': '2015-02-13',\n   'minute': 118,\n   'score': 8.9,\n   'regions': ['中国香港']},\n  {'id': 53,\n   'name': '蝙蝠侠：黑暗骑士崛起',\n   'alias': 'The Dark Knight Rises',\n   'cover': 'https://p0.meituan.net/movie/f7f4b4099773268f8290ed033f49dc01377512.jpg@464w_644h_1e_1c',\n   'categories': ['剧情', '动作', '科幻', '惊悚', '犯罪'],\n   'published_at': '2012-08-27',\n   'minute': 165,\n   'score': 8.9,\n   'regions': ['美国', '英国']},\n  {'id': 54,\n   'name': '鬼子来了',\n   'alias': 'Devils on the Doorstep',\n   'cover': 'https://p0.meituan.net/movie/34f9202c5e823f490ffec4c69d5d0028137395.jpg@464w_644h_1e_1c',\n   'categories': ['剧情', '战争'],\n   'published_at': '2000-05-13',\n   'minute': 139,\n   'score': 8.8,\n   'regions': ['中国大陆']},\n  {'id': 55,\n   'name': '无敌破坏王',\n   'alias': 'Wreck-It Ralph',\n   'cover': 'https://p1.meituan.net/movie/70a574550c4bb928dcc6a40641294785150838.jpg@464w_644h_1e_1c',\n   'categories': ['喜剧', '动画', '奇幻', '冒险'],\n   'published_at': '2012-11-06',\n   'minute': 101,\n   'score': 8.8,\n   'regions': ['美国']},\n  {'id': 56,\n   'name': '致命魔术',\n   'alias': 'The Prestige',\n   'cover': 'https://p0.meituan.net/movie/83df1c541e6e0696e67ce7da81cb1e1a251258.jpg@464w_644h_1e_1c',\n   'categories': ['剧情', '悬疑', '惊悚'],\n   'published_at': '2006-10-17',\n   'minute': 130,\n   'score': 8.8,\n   'regions': ['美国', '英国']},\n  {'id': 57,\n   'name': '神偷奶爸',\n   'alias': 'Despicable Me',\n   'cover': 'https://p0.meituan.net/movie/85c2bfba6025bfbfb53291ae5924c215308805.jpg@464w_644h_1e_1c',\n   'categories': ['喜剧', '动画', '冒险'],\n   'published_at': '2010-06-20',\n   'minute': 95,\n   'score': 8.8,\n   'regions': ['美国', '法国']},\n  {'id': 58,\n   'name': '断背山',\n   'alias': 'Brokeback Mountain',\n   'cover': 'https://p0.meituan.net/movie/e71affe126eeb4f8bfcc738cbddeebc8288766.jpg@464w_644h_1e_1c',\n   'categories': ['剧情', '爱情', '家庭'],\n   'published_at': '2005-09-02',\n   'minute': 134,\n   'score': 8.8,\n   'regions': ['美国', '加拿大']},\n  {'id': 59,\n   'name': '怦然心动',\n   'alias': 'Flipped',\n   'cover': 'https://p0.meituan.net/movie/15f1ac49b6d1ff7b71207672993ed6901536456.jpg@464w_644h_1e_1c',\n   'categories': ['剧情', '喜剧', '爱情'],\n   'published_at': '2010-07-26',\n   'minute': 90,\n   'score': 8.8,\n   'regions': ['美国']},\n  {'id': 60,\n   'name': '驯龙高手',\n   'alias': 'How to Train Your Dragon',\n   'cover': 'https://p0.meituan.net/movie/b0d97e4158b47d653d7a81d66f7dd3092146907.jpg@464w_644h_1e_1c',\n   'categories': ['喜剧', '动画', '奇幻', '冒险'],\n   'published_at': '2010-05-14',\n   'minute': 98,\n   'score': 8.8,\n   'regions': ['美国']},\n  {'id': 61,\n   'name': '飞屋环游记',\n   'alias': 'Up',\n   'cover': 'https://p0.meituan.net/movie/f9356a376358f1576da3263d998eca7a94624.jpg@464w_644h_1e_1c',\n   'categories': ['剧情', '喜剧', '动画', '冒险'],\n   'published_at': '2009-08-04',\n   'minute': 96,\n   'score': 8.8,\n   'regions': ['美国']},\n  {'id': 62,\n   'name': '黑客帝国3：矩阵革命',\n   'alias': 'The Matrix Revolutions',\n   'cover': 'https://p0.meituan.net/movie/2e383b5f5f306f10f9f26d9f1c28cf1d825537.jpg@464w_644h_1e_1c',\n   'categories': ['动作', '科幻'],\n   'published_at': '2003-11-05',\n   'minute': 129,\n   'score': 8.8,\n   'regions': ['美国', '澳大利亚']},\n  {'id': 63,\n   'name': '速度与激情5',\n   'alias': 'Fast Five',\n   'cover': 'https://p0.meituan.net/movie/845ce32778a1b3f258de089f91a3979b5766154.jpg@464w_644h_1e_1c',\n   'categories': ['动作', '犯罪'],\n   'published_at': '2011-05-12',\n   'minute': 130,\n   'score': 8.9,\n   'regions': ['美国']},\n  {'id': 64,\n   'name': '勇敢的心',\n   'alias': 'Braveheart',\n   'cover': 'https://p1.meituan.net/movie/f8e9d5a90224746d15dfdbd53d4fae3d209420.jpg@464w_644h_1e_1c',\n   'categories': ['剧情', '动作', '传记', '历史', '战争'],\n   'published_at': '1995-05-18',\n   'minute': 177,\n   'score': 8.9,\n   'regions': ['美国']},\n  {'id': 65,\n   'name': '三傻大闹宝莱坞',\n   'alias': '3 Idiots',\n   'cover': 'https://p1.meituan.net/movie/ca4a128a5a54d5b5e35ceba622636c831810197.jpg@464w_644h_1e_1c',\n   'categories': ['剧情', '喜剧', '爱情', '歌舞'],\n   'published_at': '2011-12-08',\n   'minute': 171,\n   'score': 8.9,\n   'regions': ['印度']},\n  {'id': 66,\n   'name': '闻香识女人',\n   'alias': 'Scent of a Woman',\n   'cover': 'https://p1.meituan.net/movie/8d7b0b902afd4ec1a3dd7a9c6149463c187734.jpg@464w_644h_1e_1c',\n   'categories': ['剧情'],\n   'published_at': '1992-12-23',\n   'minute': 157,\n   'score': 8.9,\n   'regions': ['美国']},\n  {'id': 67,\n   'name': '末代皇帝',\n   'alias': 'The Last Emperor',\n   'cover': 'https://p1.meituan.net/movie/21b9211eb1094af360842472018db634286646.jpg@464w_644h_1e_1c',\n   'categories': ['剧情', '传记', '历史'],\n   'published_at': '1987-10-23',\n   'minute': 163,\n   'score': 8.9,\n   'regions': ['英国', '意大利', '中国大陆', '法国', '美国']},\n  {'id': 68,\n   'name': '风之谷',\n   'alias': '風の谷のナウシカ',\n   'cover': 'https://p0.meituan.net/movie/4f9638ba234c3fb673f23a09968db875371576.jpg@464w_644h_1e_1c',\n   'categories': ['动画', '奇幻', '冒险'],\n   'published_at': None,\n   'minute': 117,\n   'score': 8.9,\n   'regions': ['日本']},\n  {'id': 69,\n   'name': '大话西游之月光宝盒',\n   'alias': 'A Chinese Odyssey',\n   'cover': 'https://p0.meituan.net/movie/396266d8b711958841b3536a3fa7b868211445.jpg@464w_644h_1e_1c',\n   'categories': ['喜剧', '爱情', '奇幻', '古装'],\n   'published_at': '2014-10-24',\n   'minute': 87,\n   'score': 8.9,\n   'regions': ['中国香港', '中国大陆']},\n  {'id': 70,\n   'name': '放牛班的春天',\n   'alias': 'Les choristes',\n   'cover': 'https://p0.meituan.net/movie/70de97ebb6b5251ecb7c3f6d7a782a7f189340.jpg@464w_644h_1e_1c',\n   'categories': ['剧情', '音乐'],\n   'published_at': '2004-10-16',\n   'minute': 97,\n   'score': 8.9,\n   'regions': ['法国', '德国', '瑞士']},\n  {'id': 71,\n   'name': '当幸福来敲门',\n   'alias': 'The Pursuit of Happyness',\n   'cover': 'https://p1.meituan.net/movie/7d1d85610651dbe1c8687781a87d1008184950.jpg@464w_644h_1e_1c',\n   'categories': ['剧情', '家庭', '传记'],\n   'published_at': '2008-01-17',\n   'minute': 117,\n   'score': 8.9,\n   'regions': ['美国']},\n  {'id': 72,\n   'name': '幽灵公主',\n   'alias': 'もののけ姫',\n   'cover': 'https://p0.meituan.net/movie/a08f65e6cb50fab32df5da69ff116f593095363.jpg@464w_644h_1e_1c',\n   'categories': ['动画', '奇幻', '冒险'],\n   'published_at': '1998-05-01',\n   'minute': 134,\n   'score': 8.9,\n   'regions': ['日本']},\n  {'id': 73,\n   'name': '十二怒汉',\n   'alias': '12 Angry Men',\n   'cover': 'https://p0.meituan.net/movie/df15efd261060d3094a73ef679888d4f238149.jpg@464w_644h_1e_1c',\n   'categories': ['剧情'],\n   'published_at': '1957-04-13',\n   'minute': 96,\n   'score': 8.9,\n   'regions': ['美国']},\n  {'id': 74,\n   'name': '搏击俱乐部',\n   'alias': 'Fight Club',\n   'cover': 'https://p0.meituan.net/movie/b3defc07dfaa1b6f5b74852ce38a3f8f242792.jpg@464w_644h_1e_1c',\n   'categories': ['剧情', '动作', '悬疑', '惊悚'],\n   'published_at': '1999-09-10',\n   'minute': 139,\n   'score': 8.9,\n   'regions': ['美国', '德国']},\n  {'id': 75,\n   'name': '疯狂原始人',\n   'alias': 'The Croods',\n   'cover': 'https://p1.meituan.net/movie/bc022b86345c643ca21d759166f77a553679589.jpg@464w_644h_1e_1c',\n   'categories': ['喜剧', '动画', '冒险'],\n   'published_at': '2013-04-20',\n   'minute': 98,\n   'score': 8.9,\n   'regions': ['美国']},\n  {'id': 76,\n   'name': '阿凡达',\n   'alias': 'Avatar',\n   'cover': 'https://p1.meituan.net/movie/e540384dc6c9f63bdb27cc554588a77f44305.jpg@464w_644h_1e_1c',\n   'categories': ['动作', '科幻', '冒险'],\n   'published_at': '2010-01-04',\n   'minute': 162,\n   'score': 8.9,\n   'regions': ['美国', '英国']},\n  {'id': 77,\n   'name': '哈尔的移动城堡',\n   'alias': 'ハウルの動く城',\n   'cover': 'https://p0.meituan.net/movie/0127b451d5b8f0679c6f81c8ed414bb2432442.jpg@464w_644h_1e_1c',\n   'categories': ['动画', '奇幻', '冒险'],\n   'published_at': '2004-09-05',\n   'minute': 119,\n   'score': 8.9,\n   'regions': ['日本']},\n  {'id': 78,\n   'name': '盗梦空间',\n   'alias': 'Inception',\n   'cover': 'https://p1.meituan.net/movie/d40efe1183f29d5900f5c60be3c8a89d339225.jpg@464w_644h_1e_1c',\n   'categories': ['剧情', '科幻', '悬疑', '冒险'],\n   'published_at': '2010-09-01',\n   'minute': 148,\n   'score': 8.9,\n   'regions': ['美国', '英国']},\n  {'id': 79,\n   'name': '忠犬八公的故事',\n   'alias': \"Hachi: A Dog's Tale\",\n   'cover': 'https://p0.meituan.net/movie/5f0a709378d6b567807aa9685610f818282136.jpg@464w_644h_1e_1c',\n   'categories': ['剧情'],\n   'published_at': '2009-06-13',\n   'minute': 93,\n   'score': 8.9,\n   'regions': ['美国', '英国']},\n  {'id': 80,\n   'name': '拯救大兵瑞恩',\n   'alias': 'Saving Private Ryan',\n   'cover': 'https://p1.meituan.net/movie/a2a287c77415dc1f85b04d288f7d63ab1089754.jpg@464w_644h_1e_1c',\n   'categories': ['剧情', '历史', '战争'],\n   'published_at': '1998-11-13',\n   'minute': 169,\n   'score': 8.9,\n   'regions': ['美国']},\n  {'id': 81,\n   'name': '活着',\n   'alias': 'To Live',\n   'cover': 'https://p0.meituan.net/movie/4c41068ef7608c1d4fbfbe6016e589f7204391.jpg@464w_644h_1e_1c',\n   'categories': ['剧情', '家庭', '历史'],\n   'published_at': '1994-05-17',\n   'minute': 132,\n   'score': 9.0,\n   'regions': ['中国大陆', '中国香港']},\n  {'id': 82,\n   'name': '机器人总动员',\n   'alias': 'WALL·E',\n   'cover': 'https://p0.meituan.net/movie/267dd2483f0fb57081474c00fbea38451415571.jpg@464w_644h_1e_1c',\n   'categories': ['喜剧', '科幻', '动画'],\n   'published_at': '2008-06-27',\n   'minute': 98,\n   'score': 9.0,\n   'regions': ['美国']},\n  {'id': 83,\n   'name': '天堂电影院',\n   'alias': 'Nuovo Cinema Paradiso',\n   'cover': 'https://p0.meituan.net/movie/76fc92cfa6c8f2959431b8aa604ef7ae126414.jpg@464w_644h_1e_1c',\n   'categories': ['剧情', '爱情'],\n   'published_at': '1988-11-17',\n   'minute': 155,\n   'score': 9.0,\n   'regions': ['意大利', '法国']},\n  {'id': 84,\n   'name': '指环王2：双塔奇兵',\n   'alias': 'The Lord of the Rings: The Two Towers',\n   'cover': 'https://p0.meituan.net/movie/02bb9fd161c05bad6089133098efcdb5546589.jpg@464w_644h_1e_1c',\n   'categories': ['剧情', '动作', '奇幻', '冒险'],\n   'published_at': '2003-04-25',\n   'minute': 179,\n   'score': 9.0,\n   'regions': ['美国', '新西兰']},\n  {'id': 85,\n   'name': '指环王1：护戒使者',\n   'alias': 'The Lord of the Rings: The Fellowship of the Ring',\n   'cover': 'https://p1.meituan.net/movie/dd08154878aac7c8c649fe3eeb8ccd0a2498277.jpg@464w_644h_1e_1c',\n   'categories': ['剧情', '动作', '奇幻', '冒险'],\n   'published_at': '2002-04-04',\n   'minute': 178,\n   'score': 9.0,\n   'regions': ['新西兰', '美国']},\n  {'id': 86,\n   'name': '射雕英雄传之东成西就',\n   'alias': 'The Eagle Shooting Heroes',\n   'cover': 'https://p0.meituan.net/movie/86c5190ba1d1236093c13f2fe9ed8dd4150050.jpg@464w_644h_1e_1c',\n   'categories': ['喜剧', '奇幻', '武侠', '古装'],\n   'published_at': '1993-02-05',\n   'minute': 113,\n   'score': 9.0,\n   'regions': ['中国香港']},\n  {'id': 87,\n   'name': '蝙蝠侠：黑暗骑士',\n   'alias': 'The Dark Knight',\n   'cover': 'https://p0.meituan.net/movie/09658109acfea0e248a63932337d8e6a4268980.jpg@464w_644h_1e_1c',\n   'categories': ['剧情', '动作', '科幻', '惊悚', '犯罪'],\n   'published_at': '2008-07-14',\n   'minute': 152,\n   'score': 9.0,\n   'regions': ['美国', '英国']},\n  {'id': 88,\n   'name': '无间道',\n   'alias': 'Infernal Affairs',\n   'cover': 'https://p0.meituan.net/movie/606de8f394d40dbcbb9b87943fec71a2130408.jpg@464w_644h_1e_1c',\n   'categories': ['剧情', '悬疑', '犯罪'],\n   'published_at': '2003-09-05',\n   'minute': 101,\n   'score': 9.0,\n   'regions': ['中国香港']},\n  {'id': 89,\n   'name': '教父2',\n   'alias': 'The Godfather: Part Ⅱ',\n   'cover': 'https://p0.meituan.net/movie/bb1dee5e0b25889a2410211c1d5010ae190824.jpg@464w_644h_1e_1c',\n   'categories': ['剧情', '犯罪'],\n   'published_at': '1974-12-12',\n   'minute': 202,\n   'score': 9.0,\n   'regions': ['美国']},\n  {'id': 90,\n   'name': '加勒比海盗',\n   'alias': 'Pirates of the Caribbean: The Curse of the Black Pearl',\n   'cover': 'https://p0.meituan.net/movie/b05b94b28eca53f325ae8d807fcd4ce01798036.jpg@464w_644h_1e_1c',\n   'categories': ['动作', '奇幻', '冒险'],\n   'published_at': '2003-11-21',\n   'minute': 143,\n   'score': 9.0,\n   'regions': ['美国']},\n  {'id': 91,\n   'name': '哈利·波特与魔法石',\n   'alias': \"Harry Potter and the Sorcerer's Stone\",\n   'cover': 'https://p0.meituan.net/movie/d66b56b77b55aa3da5987b68948444c9106742.jpg@464w_644h_1e_1c',\n   'categories': ['奇幻', '冒险'],\n   'published_at': '2002-01-26',\n   'minute': 152,\n   'score': 9.0,\n   'regions': ['美国', '英国']},\n  {'id': 92,\n   'name': '指环王3：王者无敌',\n   'alias': 'The Lord of the Rings: The Return of the King',\n   'cover': 'https://p0.meituan.net/movie/932bdfbef5be3543e6b136246aeb99b8123736.jpg@464w_644h_1e_1c',\n   'categories': ['剧情', '动作', '奇幻', '冒险'],\n   'published_at': '2004-03-15',\n   'minute': 201,\n   'score': 9.0,\n   'regions': ['美国', '新西兰']},\n  {'id': 93,\n   'name': '黑客帝国',\n   'alias': 'The Matrix',\n   'cover': 'https://p1.meituan.net/movie/ad974d3527879f00be2eec29135118163728582.jpg@464w_644h_1e_1c',\n   'categories': ['动作', '科幻'],\n   'published_at': '2000-01-14',\n   'minute': 136,\n   'score': 9.0,\n   'regions': ['美国', '澳大利亚']},\n  {'id': 94,\n   'name': '剪刀手爱德华',\n   'alias': 'Edward Scissorhands',\n   'cover': 'https://p1.meituan.net/movie/6a964e9cee699267053bd6a4bf6f2671195394.jpg@464w_644h_1e_1c',\n   'categories': ['剧情', '爱情', '奇幻'],\n   'published_at': '1990-12-06',\n   'minute': 105,\n   'score': 9.0,\n   'regions': ['美国']},\n  {'id': 95,\n   'name': '春光乍泄',\n   'alias': 'Happy Together',\n   'cover': 'https://p0.meituan.net/movie/ae7245920d95c03765fe1615f3a1fe3865785.jpg@464w_644h_1e_1c',\n   'categories': ['剧情', '爱情'],\n   'published_at': '1997-05-17',\n   'minute': 96,\n   'score': 9.0,\n   'regions': ['中国香港', '日本', '韩国']},\n  {'id': 96,\n   'name': '大闹天宫',\n   'alias': 'The Monkey King',\n   'cover': 'https://p1.meituan.net/movie/14a7b337e8063e3ce05a5993ed80176b74208.jpg@464w_644h_1e_1c',\n   'categories': ['动画', '奇幻'],\n   'published_at': '1965-12-31',\n   'minute': 114,\n   'score': 9.0,\n   'regions': ['中国大陆']},\n  {'id': 97,\n   'name': '天空之城',\n   'alias': '天空の城ラピュタ',\n   'cover': 'https://p1.meituan.net/movie/ba1ed511668402605ed369350ab779d6319397.jpg@464w_644h_1e_1c',\n   'categories': ['动画', '奇幻', '冒险'],\n   'published_at': '1992-05-01',\n   'minute': 125,\n   'score': 9.0,\n   'regions': ['日本']},\n  {'id': 98,\n   'name': '音乐之声',\n   'alias': 'The Sound of Music',\n   'cover': 'https://p0.meituan.net/movie/ef6d7e040278f3d727306745e8df1af5246411.jpg@464w_644h_1e_1c',\n   'categories': ['剧情', '爱情', '歌舞', '传记'],\n   'published_at': '1965-03-02',\n   'minute': 174,\n   'score': 9.0,\n   'regions': ['美国']},\n  {'id': 99,\n   'name': '辛德勒的名单',\n   'alias': \"Schindler's List\",\n   'cover': 'https://p0.meituan.net/movie/b0d986a8bf89278afbb19f6abaef70f31206570.jpg@464w_644h_1e_1c',\n   'categories': ['剧情', '历史', '战争'],\n   'published_at': '1993-11-30',\n   'minute': 195,\n   'score': 9.5,\n   'regions': ['美国']},\n  {'id': 100,\n   'name': '魂断蓝桥',\n   'alias': 'Waterloo Bridge',\n   'cover': 'https://p0.meituan.net/movie/58782fa5439c25d764713f711ebecd1e201941.jpg@464w_644h_1e_1c',\n   'categories': ['剧情', '爱情', '战争'],\n   'published_at': '1940-05-17',\n   'minute': 108,\n   'score': 9.5,\n   'regions': ['美国']},\n  {'id': 104,\n   'name': 'value',\n   'alias': None,\n   'cover': None,\n   'categories': None,\n   'published_at': None,\n   'minute': None,\n   'score': None,\n   'regions': None}]}"
     },
     "execution_count": 16,
     "metadata": {},
     "output_type": "execute_result"
    }
   ],
   "source": [
    "def get_mov_list():\n",
    "    # 获取token\n",
    "    token = get_token(args=['/api/movie'])\n",
    "    # 构造URL\n",
    "    url = INDEX_URL.format(limit=10, offset=0, token=token)\n",
    "    # 获取电影总数\n",
    "    mov_count = requests.get(url, verify=False).json()['count']\n",
    "    # 根据电影总数构造新的URL\n",
    "    url = INDEX_URL.format(limit=mov_count, offset=0, token=token)\n",
    "    # 获取电影列表\n",
    "    mov_list = requests.get(url, verify=False).json()\n",
    "    return mov_list\n",
    "\n",
    "\n",
    "get_mov_list()"
   ]
  },
  {
   "cell_type": "markdown",
   "source": [
    "## 获取电影列表（Playwright 实现）\n",
    "\n",
    "Playwright 是微软在 2020 年初开源的新一代自动化测试工具，它的功能类似于 Selenium, Pyppeteer 等，可以驱动浏览器进行各种自动化操作。它对市面上的主流浏览器都提供了支持，功能简洁又强大。\n",
    "\n",
    "我们通过 Playwright 的事件监听方法拦截了 Ajax 请求，直接获取了响应结果。即使这个 Ajax 请求有加密参数 (e.g. `encrypt_id`, `token`)，我们也不用关心，因为我们直接截获了 Ajax 最后响应的结果。\n",
    "\n",
    "与 Requests 实现相比，Playwright 实现的代码更加简洁，而且不用关心加密参数的生成过程。"
   ],
   "metadata": {
    "collapsed": false
   }
  },
  {
   "cell_type": "code",
   "execution_count": 20,
   "outputs": [
    {
     "ename": "Error",
     "evalue": "It looks like you are using Playwright Sync API inside the asyncio loop.\nPlease use the Async API instead.",
     "output_type": "error",
     "traceback": [
      "\u001B[1;31m---------------------------------------------------------------------------\u001B[0m",
      "\u001B[1;31mError\u001B[0m                                     Traceback (most recent call last)",
      "Cell \u001B[1;32mIn[20], line 3\u001B[0m\n\u001B[0;32m      1\u001B[0m \u001B[38;5;28;01mimport\u001B[39;00m \u001B[38;5;21;01mscrape_mov_list\u001B[39;00m \u001B[38;5;28;01mas\u001B[39;00m \u001B[38;5;21;01mpw\u001B[39;00m\n\u001B[1;32m----> 3\u001B[0m pw\u001B[38;5;241m.\u001B[39mscrape_mov_list()\n",
      "File \u001B[1;32m~\\OneDrive - Queen Mary, University of London\\Documentation\\Projects\\Scrape\\scrape_mov_list.py:21\u001B[0m, in \u001B[0;36mscrape_mov_list\u001B[1;34m()\u001B[0m\n\u001B[0;32m     19\u001B[0m \u001B[38;5;28;01mdef\u001B[39;00m \u001B[38;5;21mscrape_mov_list\u001B[39m():\n\u001B[0;32m     20\u001B[0m     \u001B[38;5;28;01mglobal\u001B[39;00m COUNT, TOKEN\n\u001B[1;32m---> 21\u001B[0m     \u001B[38;5;28;01mwith\u001B[39;00m sync_playwright() \u001B[38;5;28;01mas\u001B[39;00m p:\n\u001B[0;32m     22\u001B[0m         browser \u001B[38;5;241m=\u001B[39m p\u001B[38;5;241m.\u001B[39mchromium\u001B[38;5;241m.\u001B[39mlaunch()\n\u001B[0;32m     23\u001B[0m         page \u001B[38;5;241m=\u001B[39m browser\u001B[38;5;241m.\u001B[39mnew_page()\n",
      "File \u001B[1;32m~\\anaconda3\\envs\\scrape\\Lib\\site-packages\\playwright\\sync_api\\_context_manager.py:47\u001B[0m, in \u001B[0;36mPlaywrightContextManager.__enter__\u001B[1;34m(self)\u001B[0m\n\u001B[0;32m     45\u001B[0m             \u001B[38;5;28mself\u001B[39m\u001B[38;5;241m.\u001B[39m_own_loop \u001B[38;5;241m=\u001B[39m \u001B[38;5;28;01mTrue\u001B[39;00m\n\u001B[0;32m     46\u001B[0m         \u001B[38;5;28;01mif\u001B[39;00m \u001B[38;5;28mself\u001B[39m\u001B[38;5;241m.\u001B[39m_loop\u001B[38;5;241m.\u001B[39mis_running():\n\u001B[1;32m---> 47\u001B[0m             \u001B[38;5;28;01mraise\u001B[39;00m Error(\n\u001B[0;32m     48\u001B[0m \u001B[38;5;250m                \u001B[39m\u001B[38;5;124;03m\"\"\"It looks like you are using Playwright Sync API inside the asyncio loop.\u001B[39;00m\n\u001B[0;32m     49\u001B[0m \u001B[38;5;124;03mPlease use the Async API instead.\"\"\"\u001B[39;00m\n\u001B[0;32m     50\u001B[0m             )\n\u001B[0;32m     52\u001B[0m         \u001B[38;5;66;03m# In Python 3.7, asyncio.Process.wait() hangs because it does not use ThreadedChildWatcher\u001B[39;00m\n\u001B[0;32m     53\u001B[0m         \u001B[38;5;66;03m# which is used in Python 3.8+. This is unix specific and also takes care about\u001B[39;00m\n\u001B[0;32m     54\u001B[0m         \u001B[38;5;66;03m# cleaning up zombie processes. See https://bugs.python.org/issue35621\u001B[39;00m\n\u001B[0;32m     55\u001B[0m         \u001B[38;5;28;01mif\u001B[39;00m (\n\u001B[0;32m     56\u001B[0m             sys\u001B[38;5;241m.\u001B[39mversion_info[\u001B[38;5;241m0\u001B[39m] \u001B[38;5;241m==\u001B[39m \u001B[38;5;241m3\u001B[39m\n\u001B[0;32m     57\u001B[0m             \u001B[38;5;129;01mand\u001B[39;00m sys\u001B[38;5;241m.\u001B[39mversion_info[\u001B[38;5;241m1\u001B[39m] \u001B[38;5;241m==\u001B[39m \u001B[38;5;241m7\u001B[39m\n\u001B[0;32m     58\u001B[0m             \u001B[38;5;129;01mand\u001B[39;00m sys\u001B[38;5;241m.\u001B[39mplatform \u001B[38;5;241m!=\u001B[39m \u001B[38;5;124m\"\u001B[39m\u001B[38;5;124mwin32\u001B[39m\u001B[38;5;124m\"\u001B[39m\n\u001B[0;32m     59\u001B[0m             \u001B[38;5;129;01mand\u001B[39;00m \u001B[38;5;28misinstance\u001B[39m(asyncio\u001B[38;5;241m.\u001B[39mget_child_watcher(), asyncio\u001B[38;5;241m.\u001B[39mSafeChildWatcher)\n\u001B[0;32m     60\u001B[0m         ):\n",
      "\u001B[1;31mError\u001B[0m: It looks like you are using Playwright Sync API inside the asyncio loop.\nPlease use the Async API instead."
     ]
    }
   ],
   "source": [
    "import scrape_mov_list as pw\n",
    "\n",
    "pw.scrape_mov_list()"
   ],
   "metadata": {
    "collapsed": false,
    "ExecuteTime": {
     "end_time": "2023-05-28T12:25:54.547919600Z",
     "start_time": "2023-05-28T12:25:54.512241700Z"
    }
   }
  },
  {
   "cell_type": "markdown",
   "metadata": {
    "ExecuteTime": {
     "end_time": "2023-05-22T09:11:28.402395900Z",
     "start_time": "2023-05-22T09:11:28.387830200Z"
    }
   },
   "source": [
    "## 获取电影详情\n",
    "\n",
    "- 参数：电影 id\n",
    "- 返回：JSON 格式的电影详情\n",
    "\n",
    "### 方法\n",
    "\n",
    "1. 将电影 id 与密钥 SECRET 拼接后进行 base64 编码，得到加密后的电影 id\n",
    "2. 根据 path '/api/movie/{encrypt_id}' 获取 token\n",
    "3. 根据加密 id 和 token 构造新的 URL\n",
    "4. 接收新的 URL 的 response ，提取 JSON 格式的电影详情\n",
    "5. 返回电影详情"
   ]
  },
  {
   "cell_type": "code",
   "execution_count": 5,
   "metadata": {
    "ExecuteTime": {
     "end_time": "2023-05-28T11:19:21.802205500Z",
     "start_time": "2023-05-28T11:19:19.240547800Z"
    }
   },
   "outputs": [
    {
     "name": "stdout",
     "output_type": "stream",
     "text": [
      "1. 拼接 path 和时间戳：\t\t /api/movie/ZWYzNCN0ZXVxMGJ0dWEjKC01N3cxcTVvNS0takA5OHh5Z2ltbHlmeHMqLSFpLTAtbWIz,1685272759\n",
      "2. 对上一步结果进行 SHA1 加密：\t e6f2f333df7f48bc42bd7eba4640e0f1cf30e6c1\n",
      "3. 拼接加密后的字符串和时间戳：\t e6f2f333df7f48bc42bd7eba4640e0f1cf30e6c1,1685272759\n",
      "4. 对上一步结果进行 base64 编码： ZTZmMmYzMzNkZjdmNDhiYzQyYmQ3ZWJhNDY0MGUwZjFjZjMwZTZjMSwxNjg1MjcyNzU5 \n",
      "\n"
     ]
    },
    {
     "data": {
      "text/plain": "{'id': 3,\n 'name': '肖申克的救赎',\n 'alias': 'The Shawshank Redemption',\n 'cover': 'https://p0.meituan.net/movie/283292171619cdfd5b240c8fd093f1eb255670.jpg@464w_644h_1e_1c',\n 'categories': ['剧情', '犯罪'],\n 'regions': ['美国'],\n 'actors': [{'name': '蒂姆·罗宾斯',\n   'role': '安迪 Andy Dufresne',\n   'image': 'https://p0.meituan.net/movie/c37f3c953107058ab72b2d08b22f167e42111.jpg@128w_170h_1e_1c'},\n  {'name': '摩根·弗里曼',\n   'role': \"瑞德 Ellis Boyd 'Red' Redding\",\n   'image': 'https://p1.meituan.net/movie/10f3327ce886885f809c23d0adb67fb049302.jpg@128w_170h_1e_1c'},\n  {'name': '鲍勃·冈顿',\n   'role': '典狱长诺顿 Warden Samuel Norton',\n   'image': 'https://p0.meituan.net/moviemachine/0cd0373955cae450d1a616c96fefcd4449739.jpg@128w_170h_1e_1c'},\n  {'name': '威廉·桑德勒',\n   'role': '海伍德 Heywood',\n   'image': 'https://p0.meituan.net/movie/603afbed507f7a05923c90d80e458bf112645.jpg@128w_170h_1e_1c'},\n  {'name': '克兰西·布朗',\n   'role': '赫德利 Captain Byron T. Hadley',\n   'image': 'https://p1.meituan.net/movie/8d887cbbded2117045da0e417316f24a60543.jpg@128w_170h_1e_1c'},\n  {'name': '吉尔·贝罗斯',\n   'role': '汤米 Tommy',\n   'image': 'https://p0.meituan.net/movie/0c184c78020153a3e4092b2ca4d7e16e52827.jpg@128w_170h_1e_1c'},\n  {'name': '马克·罗斯顿',\n   'role': '鲍格斯 Bogs Diamond',\n   'image': 'https://p1.meituan.net/movie/6c9937278f92f318b0e76e34f3479c1246653.jpg@128w_170h_1e_1c'},\n  {'name': '詹姆斯·惠特摩',\n   'role': '布鲁克斯 Brooks Hatlen',\n   'image': 'https://p1.meituan.net/movie/ac4a23ac0391c070687b91a4468269ba41181.jpg@128w_170h_1e_1c'},\n  {'name': '杰弗里·德曼',\n   'role': '1946 D.A.',\n   'image': 'https://p1.meituan.net/movie/d9f39634a3bea56e1774e9377f0565c344438.jpg@128w_170h_1e_1c'},\n  {'name': '拉里·布兰登伯格',\n   'role': 'Skeet',\n   'image': 'https://p0.meituan.net/movie/1a3c9c7edce78ab70d539e4dd9e3ef818414.jpg@128w_170h_1e_1c'},\n  {'name': '尼尔·吉恩托利',\n   'role': 'Jigger',\n   'image': 'https://p1.meituan.net/movie/31b5836a1f795c1bbc83801c37d5ed7126335.jpg@128w_170h_1e_1c'},\n  {'name': '布赖恩·利比',\n   'role': 'Floyd',\n   'image': 'https://p1.meituan.net/movie/acc2087b6883b71b2ffb5605f39161b380529.jpg@128w_170h_1e_1c'},\n  {'name': '大卫·普罗瓦尔',\n   'role': 'Snooze',\n   'image': 'https://p0.meituan.net/movie/be607760a28dae050b50a3eae31a9a6942275.jpg@128w_170h_1e_1c'},\n  {'name': '乔·劳格诺',\n   'role': 'Ernie',\n   'image': 'https://p1.meituan.net/mmdb/3a2061d771d98566d3e5fa5c08c5e0b33685.png@128w_170h_1e_1c'},\n  {'name': '祖德·塞克利拉',\n   'role': 'Guard Mert',\n   'image': 'https://p0.meituan.net/movie/d9097433a273e9c8b9ea5feff47a345839481.jpg@128w_170h_1e_1c'},\n  {'name': '保罗·麦克兰尼',\n   'role': 'Guard Trout',\n   'image': 'https://p0.meituan.net/movie/f4a755cc6f930a7d216708bd47e2c12a30633.jpg@128w_170h_1e_1c'},\n  {'name': '芮妮·布莱恩',\n   'role': \"Andy Dufresne's Wife\",\n   'image': 'https://p0.meituan.net/movie/e40d85a836c7213496fc89b0a3968b8640425.jpg@128w_170h_1e_1c'},\n  {'name': '斯科特·曼',\n   'role': 'Glenn Quentin',\n   'image': 'https://p1.meituan.net/mmdb/3a2061d771d98566d3e5fa5c08c5e0b33685.png@128w_170h_1e_1c'},\n  {'name': '约翰·霍顿',\n   'role': '1946 Judge',\n   'image': 'https://p1.meituan.net/mmdb/3a2061d771d98566d3e5fa5c08c5e0b33685.png@128w_170h_1e_1c'},\n  {'name': '戈登·格林',\n   'role': '1947 Parole Hearings Man (as Gordon C. Greene)',\n   'image': 'https://p1.meituan.net/mmdb/3a2061d771d98566d3e5fa5c08c5e0b33685.png@128w_170h_1e_1c'},\n  {'name': '阿方索·弗里曼',\n   'role': 'Fresh Fish Con',\n   'image': 'https://p0.meituan.net/movie/bef6612f1e280cf0f03fdfd002d86ea831201.jpg@128w_170h_1e_1c'},\n  {'name': 'V·J·福斯特',\n   'role': 'Hungry Fish Con',\n   'image': 'https://p1.meituan.net/movie/646aa1fbc8da05f5b2ed6f8ba581061a13449.jpg@128w_170h_1e_1c'},\n  {'name': '约翰·萨默斯',\n   'role': 'New Fish Guard',\n   'image': 'https://p1.meituan.net/mmdb/3a2061d771d98566d3e5fa5c08c5e0b33685.png@128w_170h_1e_1c'},\n  {'name': '弗兰克·梅德拉诺',\n   'role': 'Fat Ass',\n   'image': 'https://p1.meituan.net/movie/20ba1948aff5bb12dca91fcb117dda1d36042.jpg@128w_170h_1e_1c'},\n  {'name': '马克·迈尔斯',\n   'role': 'Tyrell',\n   'image': 'https://p0.meituan.net/movie/967441fab813184998440e469fd5cbcb12044.jpg@128w_170h_1e_1c'},\n  {'name': '阿兰·凯斯勒',\n   'role': 'Laundry Bob',\n   'image': 'https://p1.meituan.net/mmdb/3a2061d771d98566d3e5fa5c08c5e0b33685.png@128w_170h_1e_1c'},\n  {'name': '摩根·伦德',\n   'role': 'Laundry Truck Driver',\n   'image': 'https://p0.meituan.net/movie/459286ede672027bfd963ffd0b7a19c940434.jpg@128w_170h_1e_1c'},\n  {'name': '康奈尔·华莱士',\n   'role': 'Laundry Leonard',\n   'image': 'https://p1.meituan.net/mmdb/3a2061d771d98566d3e5fa5c08c5e0b33685.png@128w_170h_1e_1c'},\n  {'name': '加里·李·戴维斯',\n   'role': 'Rooster',\n   'image': 'https://p1.meituan.net/mmdb/3a2061d771d98566d3e5fa5c08c5e0b33685.png@128w_170h_1e_1c'},\n  {'name': '尼尔·萨默斯',\n   'role': 'Pete',\n   'image': 'https://p1.meituan.net/movie/e2c024f7d5fcbb86f3d171ec5b3f214c75519.jpg@128w_170h_1e_1c'},\n  {'name': '耐德·巴拉米',\n   'role': 'Guard Youngblood',\n   'image': 'https://p0.meituan.net/movie/0ffd08e1718c1bcee54264d782ef6ffc41199.jpg@128w_170h_1e_1c'},\n  {'name': '乔·佩科拉罗',\n   'role': 'Projectionist (as Joseph Pecoraro)',\n   'image': 'https://p1.meituan.net/mmdb/3a2061d771d98566d3e5fa5c08c5e0b33685.png@128w_170h_1e_1c'},\n  {'name': '小哈罗德·科普',\n   'role': 'Hole Guard',\n   'image': 'https://p1.meituan.net/mmdb/3a2061d771d98566d3e5fa5c08c5e0b33685.png@128w_170h_1e_1c'},\n  {'name': '布赖恩·戴拉特',\n   'role': 'Guard Dekins',\n   'image': 'https://p0.meituan.net/movie/893c18f282263d623ee908515bd201ac37238.jpg@128w_170h_1e_1c'},\n  {'name': '唐·麦克马纳斯',\n   'role': 'Guard Wiley (as Don R. McManus)',\n   'image': 'https://p1.meituan.net/movie/ef377c61606bfc4a67f63b608ebc11f322091.jpg@128w_170h_1e_1c'},\n  {'name': '唐纳德·津恩',\n   'role': 'Moresby Batter (as Donald E. Zinn)',\n   'image': 'https://p1.meituan.net/mmdb/3a2061d771d98566d3e5fa5c08c5e0b33685.png@128w_170h_1e_1c'},\n  {'name': '多萝西·希尔沃',\n   'role': '1954 Landlady',\n   'image': 'https://p1.meituan.net/movie/1733adb3d04b796657a1f723f4d0589d31491.jpg@128w_170h_1e_1c'},\n  {'name': '罗伯特·海利',\n   'role': '1954 Food-Way Manager',\n   'image': 'https://p1.meituan.net/mmdb/3a2061d771d98566d3e5fa5c08c5e0b33685.png@128w_170h_1e_1c'},\n  {'name': '达纳·斯奈德',\n   'role': '1954 Food-Way Woman',\n   'image': 'https://p1.meituan.net/mmdb/3a2061d771d98566d3e5fa5c08c5e0b33685.png@128w_170h_1e_1c'},\n  {'name': 'John D. Craig',\n   'role': '1957 Parole Hearings Man',\n   'image': 'https://p1.meituan.net/mmdb/3a2061d771d98566d3e5fa5c08c5e0b33685.png@128w_170h_1e_1c'},\n  {'name': '肯·马吉',\n   'role': 'Ned Grimes',\n   'image': 'https://p1.meituan.net/mmdb/3a2061d771d98566d3e5fa5c08c5e0b33685.png@128w_170h_1e_1c'},\n  {'name': 'Eugene C. DePasquale',\n   'role': 'Mail Caller (as Eugene C. De Pasquale)',\n   'image': 'https://p1.meituan.net/mmdb/3a2061d771d98566d3e5fa5c08c5e0b33685.png@128w_170h_1e_1c'},\n  {'name': '比尔·鲍兰德',\n   'role': 'Elmo Blatch',\n   'image': 'https://p1.meituan.net/mmdb/3a2061d771d98566d3e5fa5c08c5e0b33685.png@128w_170h_1e_1c'},\n  {'name': '罗恩·纽厄尔',\n   'role': 'Elderly Hole Guard',\n   'image': 'https://p1.meituan.net/mmdb/3a2061d771d98566d3e5fa5c08c5e0b33685.png@128w_170h_1e_1c'},\n  {'name': '约翰·伍德沃德',\n   'role': 'Bullhorn Tower Guard',\n   'image': 'https://p1.meituan.net/mmdb/3a2061d771d98566d3e5fa5c08c5e0b33685.png@128w_170h_1e_1c'},\n  {'name': '查克·布劳彻勒',\n   'role': 'Man Missing Guard',\n   'image': 'https://p1.meituan.net/mmdb/3a2061d771d98566d3e5fa5c08c5e0b33685.png@128w_170h_1e_1c'},\n  {'name': '迪翁·安德森',\n   'role': 'Head Bull Haig',\n   'image': 'https://p1.meituan.net/movie/f38cd75e5aa84586eb7619c921a268ac25297.jpg@128w_170h_1e_1c'},\n  {'name': '克莱尔·史莱姆',\n   'role': 'Bank Teller',\n   'image': 'https://p1.meituan.net/movie/9f6bb09273d41eda18bf934b4f1f929229176.jpg@128w_170h_1e_1c'},\n  {'name': 'James Kisicki',\n   'role': 'Bank Manager',\n   'image': 'https://p1.meituan.net/mmdb/3a2061d771d98566d3e5fa5c08c5e0b33685.png@128w_170h_1e_1c'},\n  {'name': '詹姆斯·巴伯森',\n   'role': 'Con (uncredited)',\n   'image': 'https://p1.meituan.net/movie/c2bd32b010e60eb81dfefb75ec3c0c3a127693.png@128w_170h_1e_1c'},\n  {'name': '罗恩·托马斯',\n   'role': 'Bugle Editor',\n   'image': 'https://p1.meituan.net/mmdb/3a2061d771d98566d3e5fa5c08c5e0b33685.png@128w_170h_1e_1c'},\n  {'name': '查理·卡恩斯',\n   'role': '1966 D.A.',\n   'image': 'https://p1.meituan.net/mmdb/3a2061d771d98566d3e5fa5c08c5e0b33685.png@128w_170h_1e_1c'},\n  {'name': 'Rob Reider',\n   'role': 'Duty Guard',\n   'image': 'https://p1.meituan.net/mmdb/3a2061d771d98566d3e5fa5c08c5e0b33685.png@128w_170h_1e_1c'},\n  {'name': '布莱恩·布罗菲',\n   'role': '1967 Parole Hearings Man',\n   'image': 'https://p1.meituan.net/mmdb/3a2061d771d98566d3e5fa5c08c5e0b33685.png@128w_170h_1e_1c'},\n  {'name': 'Paul Kennedy',\n   'role': '1967 Food-Way Manager',\n   'image': 'https://p1.meituan.net/movie/67ef7d5845c7c28abb2a5d973738b65f242573.jpg@128w_170h_1e_1c'},\n  {'name': 'Brad Spencer',\n   'role': '1957 Parole Hearings Guard (uncredited)',\n   'image': 'https://p1.meituan.net/movie/7d7333c12f174acf308b09c97b0cd60815306.jpg@128w_170h_1e_1c'},\n  {'name': '丹尼斯·贝克',\n   'role': 'Old Man on Bus',\n   'image': 'https://p1.meituan.net/mmdb/3a2061d771d98566d3e5fa5c08c5e0b33685.png@128w_170h_1e_1c'},\n  {'name': '弗雷德·克柏森',\n   'role': 'Police Officer (uncredited)',\n   'image': 'https://p1.meituan.net/mmdb/3a2061d771d98566d3e5fa5c08c5e0b33685.png@128w_170h_1e_1c'},\n  {'name': '丽塔·海华斯',\n   'role': 'Gilda Mundson Farrell (archive footage) (uncredited)',\n   'image': 'https://p0.meituan.net/movie/bb49f3ae627be7e242ac757d45798e5a41149.jpg@128w_170h_1e_1c'},\n  {'name': '理查德·杜恩',\n   'role': 'Con (uncredited)',\n   'image': 'https://p1.meituan.net/mmdb/3a2061d771d98566d3e5fa5c08c5e0b33685.png@128w_170h_1e_1c'},\n  {'name': 'Michael Lightsey',\n   'role': 'Con (uncredited)',\n   'image': 'https://p0.meituan.net/movie/d76568daca44bdaaba2a1fe48a3e3dff15552.jpg@128w_170h_1e_1c'},\n  {'name': '加里·琼斯',\n   'role': 'Convict (uncredited)',\n   'image': 'https://p1.meituan.net/movie/04de7d002bcce3e96955c16773e8a8c514429.jpg@128w_170h_1e_1c'},\n  {'name': '阿隆佐·F·琼斯',\n   'role': 'Inmate (uncredited)',\n   'image': 'https://p0.meituan.net/movie/0fd35ddd3b9a64ece3fede82a59ee47328006.jpg@128w_170h_1e_1c'},\n  {'name': '克里斯·佩吉',\n   'role': 'Traffic (driver) (uncredited)',\n   'image': 'https://p1.meituan.net/mmdb/3a2061d771d98566d3e5fa5c08c5e0b33685.png@128w_170h_1e_1c'},\n  {'name': '塞尔吉奥·加藤',\n   'role': 'Inmate II',\n   'image': 'https://p1.meituan.net/movie/0e140bdde2fde0284600678cc06e8f7222726.jpg@128w_170h_1e_1c'},\n  {'name': '约瑟夫·劳格诺',\n   'role': '厄尼 Ernie',\n   'image': 'https://p0.meituan.net/movie/7a7620ab9c0772fcf506f105acb5042b70465.jpg@128w_170h_1e_1c'}],\n 'directors': [{'name': '弗兰克·德拉邦特',\n   'image': 'https://p1.meituan.net/movie/22421b54442e627a99af816c3595e4a745789.jpg@128w_170h_1e_1c'}],\n 'score': 9.5,\n 'rank': 2,\n 'minute': 142,\n 'drama': '20世纪40年代末，小有成就的青年银行家安迪（蒂姆·罗宾斯 饰）因涉嫌杀害妻子及她的情人而锒铛入狱。在这座名为肖申克的监狱内，希望似乎虚无缥缈，终身监禁的惩罚无疑注定了安迪接下来灰暗绝望的人生。未过多久，安迪尝试接近囚犯中颇有声望的瑞德（摩根·弗里曼 饰），请求对方帮自己搞来小锤子。以此为契机，二人逐渐熟稔，安迪也仿佛在鱼龙混杂、罪恶横生、黑白混淆的牢狱中找到属于自己的求生之道。他利用自身的专业知识，帮助监狱管理层逃税、洗黑钱，同时凭借与瑞德的交往在犯人中间也渐渐受到礼遇。表面看来，他已如瑞德那样对那堵高墙从憎恨转变为处之泰然，但是对自由的渴望仍促使他朝着心中的希望和目标前进。而关于其罪行的真相，似乎更使这一切朝前推进了一步……',\n 'photos': ['https://p1.meituan.net/movie/2aec34359be2d02f87b3b7a5095072ba183155.jpg@106w_106h_1e_1c',\n  'https://p0.meituan.net/movie/c91824ac3902658156b2fb381af8215680668.jpg@106w_106h_1e_1c',\n  'https://p1.meituan.net/movie/49261d23fac239cc17e9c6372b49e2bb57181.jpg@106w_106h_1e_1c',\n  'https://p0.meituan.net/movie/3e466d38509471d21d2348f86535ac87141859.jpg@106w_106h_1e_1c',\n  'https://p0.meituan.net/movie/6aba0310fb1d9c02ac0331a242a6e36b65103.jpg@106w_106h_1e_1c',\n  'https://p0.meituan.net/movie/5bf4d393bd408ab7017c38d2b4ff007f61610.jpg@106w_106h_1e_1c',\n  'https://p0.meituan.net/movie/f3a0c16f804b22474f0c708b9f358c91105866.jpg@106w_106h_1e_1c',\n  'https://p1.meituan.net/movie/03c12e8dc2621fcbb510b846678a596869710.jpg@106w_106h_1e_1c',\n  'https://p0.meituan.net/movie/e6e91da0c7c2bf12644f0cb43533971e100008.jpg@106w_106h_1e_1c',\n  'https://p1.meituan.net/movie/9296f96759111b08ef418f2202c19f6e132661.jpg@106w_106h_1e_1c',\n  'https://p1.meituan.net/movie/802b3e272577e60547ec901ed351a84096852.jpg@106w_106h_1e_1c',\n  'https://p1.meituan.net/movie/f5a514f8c0c7cdc75de319655faaf5a139158.jpg@106w_106h_1e_1c',\n  'https://p0.meituan.net/movie/26620aa2e4a1c0042227821c6b9201f2196945.jpg@106w_106h_1e_1c',\n  'https://p1.meituan.net/movie/112fcb13b84e689ecae18f3081a2456075051.jpg@106w_106h_1e_1c',\n  'https://p1.meituan.net/movie/d38ba55a1d54fc327e46d0c3bfe6de3667359.jpg@106w_106h_1e_1c',\n  'https://p1.meituan.net/movie/088d5249e6f66534752857601143511587241.jpg@106w_106h_1e_1c',\n  'https://p1.meituan.net/movie/97fe8f22dd8681ea43b31c0cc7fcbcdc54135.jpg@106w_106h_1e_1c',\n  'https://p0.meituan.net/movie/bed6a16275c3279ce94789a7408bb72845377.jpg@106w_106h_1e_1c',\n  'https://p1.meituan.net/movie/73db9a2ec98e1f24f3b9b0d65d18385e119142.jpg@106w_106h_1e_1c',\n  'https://p1.meituan.net/movie/d34f3e4eee879f0ee123f4374f7d5d6753546.jpg@106w_106h_1e_1c',\n  'https://p1.meituan.net/movie/865d7209e26afc8f2ef3cb2dab97971a112891.jpg@106w_106h_1e_1c',\n  'https://p1.meituan.net/movie/8b3da1c21db326ae1717ad40e431a30b273877.jpg@106w_106h_1e_1c',\n  'https://p1.meituan.net/movie/386431847c80071eeb489b9c360071f293023.jpg@106w_106h_1e_1c',\n  'https://p1.meituan.net/movie/38d25995ae4a0615e2256196a59804af71460.jpg@106w_106h_1e_1c',\n  'https://p1.meituan.net/movie/c5db66ef3c858ab3576278c69d0b1ca6124304.jpg@106w_106h_1e_1c',\n  'https://p0.meituan.net/movie/059d47e32a558329d2dd897d25db6164155033.jpg@106w_106h_1e_1c',\n  'https://p1.meituan.net/movie/cad411b4ef19cfd2cd53d52eee995c6d65325.jpg@106w_106h_1e_1c',\n  'https://p0.meituan.net/movie/186fdfff7dc8acedf8dc3703b86000c381378.jpg@106w_106h_1e_1c',\n  'https://p1.meituan.net/movie/5455582d09b7d812a3902df2edcff83588156.jpg@106w_106h_1e_1c',\n  'https://p1.meituan.net/movie/36f3cececb538973f08c4763dcc9fc3e103395.jpg@106w_106h_1e_1c',\n  'https://p0.meituan.net/movie/aeee3ce07b0b81a540ac6bb6a475c72e77181.jpg@106w_106h_1e_1c',\n  'https://p1.meituan.net/movie/4d3f99d9f58f9d151bc2376bc2d2755079044.jpg@106w_106h_1e_1c',\n  'https://p1.meituan.net/movie/73d859bf59f1e1cb5d59298ff115091589171.jpg@106w_106h_1e_1c',\n  'https://p0.meituan.net/movie/e93ac985f952f79e7b298a472746ac61114807.jpg@106w_106h_1e_1c',\n  'https://p1.meituan.net/movie/17015b8d6a40e30655a6b506ea6d1e0866269.jpg@106w_106h_1e_1c',\n  'https://p1.meituan.net/movie/38c67bdadce268602dc1cd93388b535362345.jpg@106w_106h_1e_1c',\n  'https://p0.meituan.net/movie/7de319f0aa49129c931743a77eb8742441948.jpg@106w_106h_1e_1c',\n  'https://p1.meituan.net/movie/7282d333f88a99db69c140224de0162f60905.jpg@106w_106h_1e_1c',\n  'https://p0.meituan.net/movie/2d6b108ef3acca972e756a7e553a368f49044.jpg@106w_106h_1e_1c',\n  'https://p0.meituan.net/movie/c2a596e28c0f32b89fb450f1161f374473252.jpg@106w_106h_1e_1c',\n  'https://p0.meituan.net/movie/68c39e508205ddc84fc1557dc278a77c189964.jpg@106w_106h_1e_1c',\n  'https://p0.meituan.net/movie/cbcd38159b275a2d7bc8ada875a6206363036.jpg@106w_106h_1e_1c',\n  'https://p1.meituan.net/movie/9dc0355a9b57e469abf33160e53aef2876520.jpg@106w_106h_1e_1c',\n  'https://p0.meituan.net/movie/d639b86fb855e240147107eb406ad30f75070.jpg@106w_106h_1e_1c',\n  'https://p1.meituan.net/movie/4453f0c3df648f4fafbdef2a66018127104560.jpg@106w_106h_1e_1c',\n  'https://p0.meituan.net/movie/5908612155dd277a40bcb17155b4028696357.jpg@106w_106h_1e_1c',\n  'https://p0.meituan.net/movie/6156d57fe9e0d6c2bbf4a8bb9039f1a598593.jpg@106w_106h_1e_1c',\n  'https://p0.meituan.net/movie/cf5ba4f42f7e2bfd2e2106333dc62b4141965.jpg@106w_106h_1e_1c',\n  'https://p1.meituan.net/movie/38d8a79d1478bccf694a1adfd310de51226524.jpg@106w_106h_1e_1c',\n  'https://p0.meituan.net/movie/3e6c4c02e6b95dfce569505f30440464129903.jpg@106w_106h_1e_1c',\n  'https://p0.meituan.net/movie/7c85caaee294fe007639ede719121b68267111.jpg@106w_106h_1e_1c',\n  'https://p0.meituan.net/movie/fb21e15d90dbb1f0a1905d159dc636c7140647.jpg@106w_106h_1e_1c',\n  'https://p1.meituan.net/movie/ca690f244059f7684373fb4cf07f9f9b304855.jpg@106w_106h_1e_1c',\n  'https://p0.meituan.net/movie/6aed67a03767fdfbfccc418354634f92131483.jpg@106w_106h_1e_1c',\n  'https://p1.meituan.net/movie/e1fcb28278d64e25b0957f1e1a6190ac153138.jpg@106w_106h_1e_1c',\n  'https://p1.meituan.net/movie/a2a224ce62700c5362e260a1ba3107e9509094.jpg@106w_106h_1e_1c',\n  'https://p0.meituan.net/movie/350ada449b3bf440aba723b75d782c0d239964.jpg@106w_106h_1e_1c',\n  'https://p0.meituan.net/movie/913bfa2b331a1acf898c6bef7766a318171166.jpg@106w_106h_1e_1c',\n  'https://p0.meituan.net/movie/de4b2fc2264dec49ecb0ed4af34f298289339.jpg@106w_106h_1e_1c',\n  'https://p0.meituan.net/movie/b59ffc4f3fcf4ef7e7a0c740e28d25d783254.jpg@106w_106h_1e_1c',\n  'https://p0.meituan.net/movie/631c67feaedcefed9222ec5ea85d2da6335482.jpg@106w_106h_1e_1c',\n  'https://p1.meituan.net/movie/02a0fcbc329cb03a75f6c884b548ec0c311031.jpg@106w_106h_1e_1c',\n  'https://p0.meituan.net/movie/b966a3d1cff062a7fdf727a3a0954820249259.jpg@106w_106h_1e_1c',\n  'https://p1.meituan.net/movie/3d22885408592f5addc492b95b49b562196910.jpg@106w_106h_1e_1c',\n  'https://p0.meituan.net/movie/6004577a54cf42638d841c0cbc7d768b231806.jpg@106w_106h_1e_1c',\n  'https://p0.meituan.net/movie/1cae981dad6804c354608a6b9eba0897301528.jpg@106w_106h_1e_1c',\n  'https://p1.meituan.net/movie/7082c07508c40bef630f29dc577436b4135224.jpg@106w_106h_1e_1c',\n  'https://p0.meituan.net/movie/42d43319f030213b860541f5424af7d6195882.jpg@106w_106h_1e_1c',\n  'https://p0.meituan.net/movie/0f6e4c01efc1f0c8f8d3b540b89aa662243408.jpg@106w_106h_1e_1c',\n  'https://p1.meituan.net/movie/c165855b4651cb5e1de47b988f2e8c82279769.jpg@106w_106h_1e_1c',\n  'https://p0.meituan.net/movie/283292171619cdfd5b240c8fd093f1eb255670.jpg@106w_106h_1e_1c',\n  'https://p1.meituan.net/movie/8c60b84af8fa7ea364bd44f1a96d078e211219.jpg@106w_106h_1e_1c',\n  'https://p1.meituan.net/movie/44ebf12b97929855bd5ef29034755569554476.jpg@106w_106h_1e_1c',\n  'https://p0.meituan.net/movie/faadf5c7aac4658c22a65c6633e69e70300254.jpg@106w_106h_1e_1c',\n  'https://p0.meituan.net/movie/cb097e28964c7ae4a8c3f5d8d72e281b549726.jpg@106w_106h_1e_1c',\n  'https://p1.meituan.net/movie/85bcda18845113c5078f4e433c7be80f114195.jpg@106w_106h_1e_1c',\n  'https://p0.meituan.net/movie/b4c22731aded628ece333e72d8158390110184.jpg@106w_106h_1e_1c',\n  'https://p1.meituan.net/movie/32df109731de7f20536c738a909697c5289519.jpg@106w_106h_1e_1c',\n  'https://p1.meituan.net/movie/88eca3d21087b6b498732e02e494cf59151024.jpg@106w_106h_1e_1c',\n  'https://p0.meituan.net/movie/8e9f81f8a02ef97765d78822174f2ecb151275.jpg@106w_106h_1e_1c',\n  'https://p0.meituan.net/movie/5cd86f2df6469b86eb5ffe3ce84f3065146285.jpg@106w_106h_1e_1c',\n  'https://p1.meituan.net/movie/a9c6352fe9e506fe1cd7cec2584588a187111.jpg@106w_106h_1e_1c',\n  'https://p1.meituan.net/movie/29b9b815caf24bd720036b54dfa8f152207412.jpg@106w_106h_1e_1c',\n  'https://p1.meituan.net/movie/6cee0f464f94f985aa53bfe22849fa8d115402.jpg@106w_106h_1e_1c',\n  'https://p1.meituan.net/movie/3c2ddd89a0b51a06759b80df96dd7b8889539.jpg@106w_106h_1e_1c',\n  'https://p1.meituan.net/movie/81ad6c4d89799e45e0b47653d160a229197797.jpg@106w_106h_1e_1c',\n  'https://p0.meituan.net/movie/26345ae03530684c05958b30c2c0f760272052.jpg@106w_106h_1e_1c',\n  'https://p1.meituan.net/movie/3dc79ef637f0cf732a969e959b7a0cb0103198.jpg@106w_106h_1e_1c',\n  'https://p1.meituan.net/movie/cf9db389e41d7f2f3b6845d23fd274ab317274.jpg@106w_106h_1e_1c',\n  'https://p1.meituan.net/movie/964de5ae28230a374a093d8711e01e31106160.jpg@106w_106h_1e_1c',\n  'https://p0.meituan.net/movie/b269ef0cb7bc60857e1ce9d51b64ca89121376.jpg@106w_106h_1e_1c',\n  'https://p1.meituan.net/movie/7b216738dcf4ffa6ea2e330b8daeb635115709.jpg@106w_106h_1e_1c',\n  'https://p1.meituan.net/movie/10b99c8d4d62ec6b9901b8063ca620db110948.jpg@106w_106h_1e_1c',\n  'https://p1.meituan.net/movie/57e442715020fc8c62bf2ff603340947150767.jpg@106w_106h_1e_1c',\n  'https://p0.meituan.net/movie/8d4d281c37e812749174d8eb600e9f69126851.jpg@106w_106h_1e_1c',\n  'https://p0.meituan.net/movie/260fef20af0258e0d07c8a0bfa9c1526101074.jpg@106w_106h_1e_1c',\n  'https://p0.meituan.net/movie/6d48db22557e76a70c43d52ba40ef879117736.jpg@106w_106h_1e_1c',\n  'https://p0.meituan.net/movie/ccc886b698fb04bf0cd39b7a171ec10d111990.jpg@106w_106h_1e_1c',\n  'https://p0.meituan.net/movie/ba6bb2c84fd8cffd0e26502c931c22c6131363.jpg@106w_106h_1e_1c',\n  'https://p1.meituan.net/movie/3607a79ea9bb42ae6f8510398471a0ae99465.jpg@106w_106h_1e_1c',\n  'https://p0.meituan.net/movie/4d838f5021b2811872eb0e33954f4a0c138502.jpg@106w_106h_1e_1c',\n  'https://p0.meituan.net/movie/a52370ec89b2742f7497b359e0bef45b128277.jpg@106w_106h_1e_1c',\n  'https://p1.meituan.net/movie/e64948df4a6290174e3039e1d59e23f0103336.jpg@106w_106h_1e_1c',\n  'https://p0.meituan.net/movie/bf641e4355bdf56476818150089b0677157731.jpg@106w_106h_1e_1c',\n  'https://p0.meituan.net/movie/14051d0b6761cfd329da666bf07671cb430166.jpg@106w_106h_1e_1c',\n  'https://p0.meituan.net/movie/6d962a80e5782de3d18c555e8b156ab2133828.jpg@106w_106h_1e_1c',\n  'https://p1.meituan.net/movie/0dad2205914c9a518c424b2415c97f7a184619.jpg@106w_106h_1e_1c',\n  'https://p0.meituan.net/movie/711fb1a4bea0df4546f2fb36adcccdb5117996.jpg@106w_106h_1e_1c',\n  'https://p0.meituan.net/movie/ebb540cb3d3c489faafa88d952e911e3148561.jpg@106w_106h_1e_1c',\n  'https://p0.meituan.net/movie/9db8f0db405c0c26f8c1867d616084e9108844.jpg@106w_106h_1e_1c',\n  'https://p0.meituan.net/movie/ea08945f252cf0c5523a46cea8918a01134856.jpg@106w_106h_1e_1c',\n  'https://p1.meituan.net/movie/29e88938379704837c6d2388d347823c131700.jpg@106w_106h_1e_1c',\n  'https://p0.meituan.net/movie/9e7e64c94e624ae659c2ea86e31358a991202.jpg@106w_106h_1e_1c',\n  'https://p0.meituan.net/movie/2416d7dd4eebdcadd5445c85fb1cdaae160737.jpg@106w_106h_1e_1c',\n  'https://p1.meituan.net/movie/f5ab8d583371371a5b999199b366306f95185.jpg@106w_106h_1e_1c',\n  'https://p1.meituan.net/movie/68608ebdf816d705c51a61aced6fac1595462.jpg@106w_106h_1e_1c',\n  'https://p1.meituan.net/movie/90df30d24df0c489155da4af0518720b89713.jpg@106w_106h_1e_1c',\n  'https://p0.meituan.net/movie/58cbf4245aa2a007c4b8ccdf5baa7a7230109.jpg@106w_106h_1e_1c',\n  'https://p1.meituan.net/movie/076d60dad53f29cb6d32d302ee3ccee452484.jpg@106w_106h_1e_1c',\n  'https://p0.meituan.net/movie/601b05324682d2e9cc4775e9c577ccee96570.jpg@106w_106h_1e_1c',\n  'https://p0.meituan.net/movie/4a48d94b81c10df4640433105037a34a69758.jpg@106w_106h_1e_1c',\n  'https://p0.meituan.net/movie/32961da2dddc74c08f17e55d2ba35e2f52251.jpg@106w_106h_1e_1c',\n  'https://p1.meituan.net/movie/a8ab34ef3fb735b39303447baca96e2b170424.jpg@106w_106h_1e_1c'],\n 'published_at': '1994-09-10',\n 'updated_at': '2020-03-07T16:31:54.879934Z'}"
     },
     "execution_count": 5,
     "metadata": {},
     "output_type": "execute_result"
    }
   ],
   "source": [
    "def get_mov_detail(mov_id):\n",
    "    # 对电影id进行加密\n",
    "    encrypt_id = base64.b64encode((SECRET + str(mov_id)).encode('utf-8')).decode('utf-8')\n",
    "    # 构造URL\n",
    "    url = DETAIL_URL.format(encrypt_id=encrypt_id, token=get_token(args=[f'/api/movie/{encrypt_id}']))\n",
    "    # 获取电影详情\n",
    "    return requests.get(url, verify=False).json()\n",
    "\n",
    "\n",
    "get_mov_detail(random.randint(1, 100))"
   ]
  },
  {
   "cell_type": "markdown",
   "metadata": {
    "ExecuteTime": {
     "end_time": "2023-05-22T09:21:05.737854400Z",
     "start_time": "2023-05-22T09:21:05.730407700Z"
    }
   },
   "source": [
    "## 获取所有电影详情\n",
    "\n",
    "- 参数：JSON 格式的电影列表\n",
    "- 返回：JSON 格式的列表中的所有电影详情\n",
    "\n",
    "### 方法\n",
    "\n",
    "遍历电影列表，调用 `get_mov_detail()`，获取每部电影的详情，最后返回所有电影详情"
   ]
  },
  {
   "cell_type": "code",
   "execution_count": null,
   "metadata": {},
   "outputs": [],
   "source": [
    "def get_all_mov_detail(mov_list):\n",
    "    # 获取所有电影详情\n",
    "    all_mov_detail = [get_mov_detail(mov['id']) for mov in mov_list['results']]\n",
    "    # 打印获取电影详情的数量\n",
    "    print(f'已成功获取 {len(all_mov_detail)} 部电影详情')\n",
    "    return all_mov_detail\n",
    "\n",
    "\n",
    "get_all_mov_detail(get_mov_list())"
   ]
  }
 ],
 "metadata": {
  "kernelspec": {
   "display_name": "Python 3 (ipykernel)",
   "language": "python",
   "name": "python3"
  },
  "language_info": {
   "codemirror_mode": {
    "name": "ipython",
    "version": 3
   },
   "file_extension": ".py",
   "mimetype": "text/x-python",
   "name": "python",
   "nbconvert_exporter": "python",
   "pygments_lexer": "ipython3",
   "version": "3.11.3"
  }
 },
 "nbformat": 4,
 "nbformat_minor": 1
}

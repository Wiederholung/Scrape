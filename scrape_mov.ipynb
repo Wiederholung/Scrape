{
 "cells": [
  {
   "cell_type": "markdown",
   "metadata": {},
   "source": [
    "# JavaScript 逆向爬虫实战：[Scrape Center](https://scrape.center/) - [spa6](https://spa6.scrape.center/)\n",
    "\n",
    "## 目标\n",
    "\n",
    "调用网站数据接口，获取电影详情页信息。\n",
    "\n",
    "![image-20230528153846167](https://web.metattri.com/i/2023/05/28/6473050758982.png)"
   ]
  },
  {
   "cell_type": "markdown",
   "source": [
    "## 分析\n",
    "\n",
    "1. 该电影网站的数据通过 [Ajax](https://en.wikipedia.org/wiki/Ajax_(programming)) 加载，电影详情页数据接口 (URL) 的返回值 (JSON) 包含指定电影的全部信息，与电影详情页对应，如上图的右侧所示。该接口有如下结构：\n",
    "\n",
    "    > <font size=5><font color=#5b9bd5>https</font>://<font color=#ffc000>spa6.scrape.center</font><font color=#70ad47>/api/movie/{encrypt_id}</font>/<font color=#ed7d31>?token={token}</font></font>\n",
    "    >\n",
    "    > - <font color=#5b9bd5>**protocol:** https</font>\n",
    "    > - <font color=#ffc000>**host:** spa6.scrape.center</font>\n",
    "    > - <font color=#70ad47>**path:** /api/movie/**ZWY...x**</font>\n",
    "    >   -  `encrypt_id` 代表经过**加密**的电影唯一标识符，下称电影的原始唯一标识符为电影 id\n",
    "    > - <font color=#ed7d31>**query:** ?token=**NTU...2**</font>\n",
    "    >   - URL 设有过期策略，这意味着 `token` 具有**时效性**>\n",
    "\n",
    "2. 网站还使用了电影列表的数据接口，该接口的返回值同样是 JSON 格式，包含了指定电影数量和偏移量的**电影 id** 和电影摘要等数据：\n",
    "\n",
    "    ```JSON\n",
    "    // limit=2&offset=0&token=NTU...2\n",
    "    {\n",
    "      \"count\": 101,\n",
    "      \"results\": [\n",
    "        {\n",
    "          \"id\": 1,\n",
    "          \"name\": \"霸王别姬\",\n",
    "          \"alias\": \"Farewell My Concubine\",\n",
    "          \"cover\": \"https://p0.meituan.net/movie/ce4da3e03e655b5b88ed31b5cd7896cf62472.jpg@464w_644h_1e_1c\",\n",
    "          \"categories\": [\"剧情\", \"爱情\"],\n",
    "          \"published_at\": \"1993-07-26\",\n",
    "          \"minute\": 171,\n",
    "          \"score\": 9.5,\n",
    "          \"regions\": [\"中国内地\", \"中国香港\"]\n",
    "        },\n",
    "        {\n",
    "          \"id\": 2,\n",
    "          \"name\": \"这个杀手不太冷\",\n",
    "          \"alias\": \"Léon\",\n",
    "          \"cover\": \"https://p1.meituan.net/movie/6bea9af4524dfbd0b668eaa7e187c3df767253.jpg@464w_644h_1e_1c\",\n",
    "          \"categories\": [\"剧情\", \"动作\", \"犯罪\"],\n",
    "          \"published_at\": \"1994-09-14\",\n",
    "          \"minute\": 110,\n",
    "          \"score\": 9.5,\n",
    "          \"regions\": [\"法国\"]\n",
    "        }\n",
    "      ]\n",
    "    }\n",
    "    ```\n",
    "\n",
    "    其结构如下：\n",
    "\n",
    "    > <font size=5><font color=#5b9bd5>https</font>://<font color=#ffc000>spa6.scrape.center</font><font color=#70ad47>/api/movie</font>/<font color=#ed7d31>?limit={limit}&offset={offset}&token={token}</font></font>\n",
    "    >\n",
    "    > - <font color=#ed7d31>**query**</font> 字段有三个参数，分别是：\n",
    "    >   - `limit`: 列表中电影数量\n",
    "    >   - `offset`: 偏移量\n",
    "    >   - `token`: 列表页 token\n",
    "\n",
    "3. 该网站对 JavaScript 代码进行了[**混淆**](https://en.wikipedia.org/wiki/Obfuscation_(software))。\n",
    "\n",
    "**因此，我们需要根据 JavaScript 代码逆向解析出 `encrypt_id` 和 `token` 的生成方法（上文已给出），并实现，然后再调用数据接口获取电影详情页信息。**"
   ],
   "metadata": {
    "collapsed": false
   }
  },
  {
   "cell_type": "markdown",
   "metadata": {},
   "source": [
    "## 导入依赖库并禁用 SSL 警告"
   ]
  },
  {
   "cell_type": "code",
   "execution_count": null,
   "metadata": {
    "collapsed": true
   },
   "outputs": [],
   "source": [
    "import base64\n",
    "import hashlib\n",
    "import random\n",
    "import time\n",
    "from typing import List, Any\n",
    "\n",
    "import requests\n",
    "import urllib3\n",
    "\n",
    "urllib3.disable_warnings()"
   ]
  },
  {
   "cell_type": "markdown",
   "metadata": {},
   "source": [
    "## 定义常量\n",
    "\n",
    "- INDEX_URL：电影列表 URL\n",
    "    - 参数\n",
    "        - `limit`：电影数量\n",
    "        - `offset`：偏移量\n",
    "        - `token`：列表页 token\n",
    "- DETAIL_URL：电影详情 URL\n",
    "    - 参数\n",
    "        - `encrypt_id`：电影 id（加密后）\n",
    "        - `token`：详情页 token\n",
    "- SECRET：密钥"
   ]
  },
  {
   "cell_type": "code",
   "execution_count": null,
   "metadata": {},
   "outputs": [],
   "source": [
    "INDEX_URL = 'https://spa6.scrape.center/api/movie?limit={limit}&offset={offset}&token={token}'\n",
    "DETAIL_URL = 'https://spa6.scrape.center/api/movie/{encrypt_id}?token={token}'\n",
    "SECRET = 'ef34#teuq0btua#(-57w1q5o5--j@98xygimlyfxs*-!i-0-mb'"
   ]
  },
  {
   "cell_type": "markdown",
   "metadata": {},
   "source": [
    "## 获取 token\n",
    "\n",
    "- 参数：<font color=#70ad47>path</font> (e.g. **/api/movie**)\n",
    "- 返回：token（base64 编码后的字符串）"
   ]
  },
  {
   "cell_type": "code",
   "execution_count": null,
   "metadata": {},
   "outputs": [],
   "source": [
    "def get_token(args: List[Any]):\n",
    "    # 获取时间戳\n",
    "    timestamp = str(int(time.time()))\n",
    "    # 将时间戳加入参数列表\n",
    "    args.append(timestamp)\n",
    "    sign1 = ','.join(args)\n",
    "    print('1. 拼接 path 和时间戳：\\t\\t', sign1)\n",
    "    # 将参数列表转为字符串并进行SHA1加密\n",
    "    sign2 = hashlib.sha1(sign1.encode('utf-8')).hexdigest()\n",
    "    print('2. 对上一步结果进行 SHA1 加密：\\t', sign2)\n",
    "    # 将加密后的字符串和时间戳拼接并进行base64编码\n",
    "    sign3 = sign2 + ',' + timestamp\n",
    "    print('3. 拼接加密后的字符串和时间戳：\\t', sign3)\n",
    "    token = base64.b64encode(sign3.encode('utf-8')).decode('utf-8')\n",
    "    print('4. 对上一步结果进行 base64 编码：', token, '\\n')\n",
    "    return token\n",
    "\n",
    "\n",
    "get_token(args=['/api/movie'])"
   ]
  },
  {
   "cell_type": "markdown",
   "metadata": {
    "ExecuteTime": {
     "end_time": "2023-05-22T09:11:28.402395900Z",
     "start_time": "2023-05-22T09:11:28.384684500Z"
    }
   },
   "source": [
    "## 获取电影列表\n",
    "\n",
    "- 参数：无\n",
    "- 返回：JSON 格式的电影列表\n",
    "\n",
    "### 方法\n",
    "\n",
    "1. 获取 token\n",
    "2. 构造 URL：limit=10, offset=0, token=token\n",
    "3. 获取 URL 的 response ，提取电影总数\n",
    "4. 根据电影总数构造新的 URL：limit=mov_count, offset=0, token=token\n",
    "5. 接收新的 URL 的 response ，提取 JSON 格式的电影列表\n",
    "6. 返回电影列表"
   ]
  },
  {
   "cell_type": "code",
   "execution_count": null,
   "metadata": {},
   "outputs": [],
   "source": [
    "def get_mov_list():\n",
    "    # 获取token\n",
    "    token = get_token(args=['/api/movie'])\n",
    "    # 构造URL\n",
    "    url = INDEX_URL.format(limit=10, offset=0, token=token)\n",
    "    # 获取电影总数\n",
    "    mov_count = requests.get(url, verify=False).json()['count']\n",
    "    # 根据电影总数构造新的URL\n",
    "    url = INDEX_URL.format(limit=mov_count, offset=0, token=token)\n",
    "    # 获取电影列表\n",
    "    mov_list = requests.get(url, verify=False).json()\n",
    "    return mov_list\n",
    "\n",
    "\n",
    "get_mov_list()"
   ]
  },
  {
   "cell_type": "markdown",
   "metadata": {
    "ExecuteTime": {
     "end_time": "2023-05-22T09:11:28.402395900Z",
     "start_time": "2023-05-22T09:11:28.387830200Z"
    }
   },
   "source": [
    "## 获取电影详情\n",
    "\n",
    "- 参数：电影 id\n",
    "- 返回：JSON 格式的电影详情\n",
    "\n",
    "### 方法\n",
    "\n",
    "1. 将电影 id 与密钥 SECRET 拼接后进行 base64 编码，得到加密后的电影 id\n",
    "2. 根据 path '/api/movie/{encrypt_id}' 获取 token\n",
    "3. 根据加密 id 和 token 构造新的 URL\n",
    "4. 接收新的 URL 的 response ，提取 JSON 格式的电影详情\n",
    "5. 返回电影详情"
   ]
  },
  {
   "cell_type": "code",
   "execution_count": null,
   "metadata": {},
   "outputs": [],
   "source": [
    "def get_mov_detail(mov_id):\n",
    "    # 对电影id进行加密\n",
    "    encrypt_id = base64.b64encode((SECRET + str(mov_id)).encode('utf-8')).decode('utf-8')\n",
    "    # 构造URL\n",
    "    url = DETAIL_URL.format(encrypt_id=encrypt_id, token=get_token(args=[f'/api/movie/{encrypt_id}']))\n",
    "    # 获取电影详情\n",
    "    return requests.get(url, verify=False).json()\n",
    "\n",
    "\n",
    "get_mov_detail(random.randint(1, 100))"
   ]
  },
  {
   "cell_type": "markdown",
   "metadata": {
    "ExecuteTime": {
     "end_time": "2023-05-22T09:21:05.737854400Z",
     "start_time": "2023-05-22T09:21:05.730407700Z"
    }
   },
   "source": [
    "## 获取所有电影详情\n",
    "\n",
    "- 参数：JSON 格式的电影列表\n",
    "- 返回：JSON 格式的列表中的所有电影详情\n",
    "\n",
    "### 方法\n",
    "\n",
    "遍历电影列表，调用 get_mov_detail()，获取每部电影的详情，最后返回所有电影详情"
   ]
  },
  {
   "cell_type": "code",
   "execution_count": null,
   "metadata": {},
   "outputs": [],
   "source": [
    "def get_all_mov_detail(mov_list):\n",
    "    # 获取所有电影详情\n",
    "    all_mov_detail = [get_mov_detail(mov['id']) for mov in mov_list['results']]\n",
    "    # 打印获取电影详情的数量\n",
    "    print(f'已成功获取 {len(all_mov_detail)} 部电影详情')\n",
    "    return all_mov_detail\n",
    "\n",
    "\n",
    "get_all_mov_detail(get_mov_list())"
   ]
  }
 ],
 "metadata": {
  "kernelspec": {
   "display_name": "Python 3 (ipykernel)",
   "language": "python",
   "name": "python3"
  },
  "language_info": {
   "codemirror_mode": {
    "name": "ipython",
    "version": 3
   },
   "file_extension": ".py",
   "mimetype": "text/x-python",
   "name": "python",
   "nbconvert_exporter": "python",
   "pygments_lexer": "ipython3",
   "version": "3.11.3"
  }
 },
 "nbformat": 4,
 "nbformat_minor": 1
}

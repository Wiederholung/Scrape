{
 "cells": [
  {
   "cell_type": "markdown",
   "source": [
    "# JavaScript 逆向爬虫实战：[Scrape Center](https://scrape.center/) - [spa6](https://spa6.scrape.center/)"
   ],
   "metadata": {
    "collapsed": false
   }
  },
  {
   "cell_type": "markdown",
   "source": [
    "## 导入依赖库"
   ],
   "metadata": {
    "collapsed": false
   }
  },
  {
   "cell_type": "code",
   "execution_count": null,
   "metadata": {
    "collapsed": true
   },
   "outputs": [],
   "source": [
    "import base64\n",
    "import hashlib\n",
    "import random\n",
    "import time\n",
    "from typing import List, Any\n",
    "\n",
    "import requests\n",
    "import urllib3"
   ]
  },
  {
   "cell_type": "markdown",
   "source": [
    "## 禁用安全请求警告"
   ],
   "metadata": {
    "collapsed": false,
    "ExecuteTime": {
     "end_time": "2023-05-22T09:11:28.402395900Z",
     "start_time": "2023-05-22T09:11:28.247338200Z"
    }
   },
   "outputs": [],
   "execution_count": 4
  },
  {
   "cell_type": "code",
   "execution_count": null,
   "outputs": [],
   "source": [
    "urllib3.disable_warnings()"
   ],
   "metadata": {
    "collapsed": false
   }
  },
  {
   "cell_type": "markdown",
   "source": [
    "## 定义常量\n",
    "\n",
    "- INDEX_URL：电影列表 URL\n",
    "    - 参数\n",
    "        - limit：电影数量\n",
    "        - offset：偏移量\n",
    "        - token：列表页 token\n",
    "- DETAIL_URL：电影详情 URL\n",
    "    - 参数\n",
    "        - id：电影 ID（加密后）\n",
    "        - token：详情页 token\n",
    "- SECRET：密钥"
   ],
   "metadata": {
    "collapsed": false
   }
  },
  {
   "cell_type": "code",
   "execution_count": null,
   "outputs": [],
   "source": [
    "INDEX_URL = 'https://spa6.scrape.center/api/movie?limit={limit}&offset={offset}&token={token}'\n",
    "DETAIL_URL = 'https://spa6.scrape.center/api/movie/{id}?token={token}'\n",
    "SECRET = 'ef34#teuq0btua#(-57w1q5o5--j@98xygimlyfxs*-!i-0-mb'"
   ],
   "metadata": {
    "collapsed": false
   }
  },
  {
   "cell_type": "markdown",
   "source": [
    "## 获取 token\n",
    "\n",
    "- 参数：path（URL 中 \"/\" 至 \"?\" 之间的部分，例如：https://spa6.scrape.center **/api/movie** /?limit=10&offset=0&token=NjY2N...E5）\n",
    "- 返回：token（base64 编码后的字符串）"
   ],
   "metadata": {
    "collapsed": false
   }
  },
  {
   "cell_type": "code",
   "execution_count": null,
   "outputs": [],
   "source": [
    "def get_token(args: List[Any]):\n",
    "    # 获取时间戳\n",
    "    timestamp = str(int(time.time()))\n",
    "    # 将时间戳加入参数列表\n",
    "    args.append(timestamp)\n",
    "    sign1 = ','.join(args)\n",
    "    print('1. 拼接 path 和时间戳：\\t\\t', sign1)\n",
    "    # 将参数列表转为字符串并进行SHA1加密\n",
    "    sign2 = hashlib.sha1(sign1.encode('utf-8')).hexdigest()\n",
    "    print('2. 对上一步结果进行 SHA1 加密：\\t', sign2)\n",
    "    # 将加密后的字符串和时间戳拼接并进行base64编码\n",
    "    sign3 = sign2 + ',' + timestamp\n",
    "    print('3. 拼接加密后的字符串和时间戳：\\t', sign3)\n",
    "    token = base64.b64encode(sign3.encode('utf-8')).decode('utf-8')\n",
    "    print('4. 对上一步结果进行 base64 编码：', token, '\\n')\n",
    "    return token\n",
    "\n",
    "\n",
    "get_token(args=['/api/movie'])"
   ],
   "metadata": {
    "collapsed": false
   }
  },
  {
   "cell_type": "markdown",
   "source": [
    "## 获取电影列表\n",
    "\n",
    "- 参数：无\n",
    "- 返回：JSON 格式的电影列表\n",
    "\n",
    "首先，我们需要获取列表中电影的总数 count，然后根据 limit=count 构造新的 URL，最后获取全部电影列表。"
   ],
   "metadata": {
    "collapsed": false,
    "ExecuteTime": {
     "end_time": "2023-05-22T09:11:28.402395900Z",
     "start_time": "2023-05-22T09:11:28.384684500Z"
    }
   },
   "outputs": [],
   "execution_count": 5
  },
  {
   "cell_type": "code",
   "execution_count": null,
   "outputs": [],
   "source": [
    "def get_mov_list():\n",
    "    # 获取token\n",
    "    token = get_token(args=['/api/movie'])\n",
    "    # 构造URL\n",
    "    url = INDEX_URL.format(limit=10, offset=0, token=token)\n",
    "    # 获取电影总数\n",
    "    mov_count = requests.get(url, verify=False).json()['count']\n",
    "    # 根据电影总数构造新的URL\n",
    "    url = INDEX_URL.format(limit=mov_count, offset=0, token=token)\n",
    "    # 获取电影列表\n",
    "    mov_list = requests.get(url, verify=False).json()\n",
    "    return mov_list\n",
    "\n",
    "get_mov_list()"
   ],
   "metadata": {
    "collapsed": false
   }
  },
  {
   "cell_type": "markdown",
   "source": [
    "## 获取电影详情\n",
    "\n",
    "- 参数：电影 ID\n",
    "- 返回：JSON 格式的电影详情\n",
    "\n",
    "首先，将电影 ID 与密钥拼接后进行 base64 编码，得到加密后的电影 ID，然后根据加密后的电影 ID 和 token 构造新的 URL，最后获取电影详情。"
   ],
   "metadata": {
    "collapsed": false,
    "ExecuteTime": {
     "end_time": "2023-05-22T09:11:28.402395900Z",
     "start_time": "2023-05-22T09:11:28.387830200Z"
    }
   },
   "outputs": [],
   "execution_count": 6
  },
  {
   "cell_type": "code",
   "execution_count": null,
   "outputs": [],
   "source": [
    "def get_mov_detail(mov_id):\n",
    "    # 对电影ID进行加密\n",
    "    encrypt_id = base64.b64encode((SECRET + str(mov_id)).encode('utf-8')).decode('utf-8')\n",
    "    # 构造URL\n",
    "    url = DETAIL_URL.format(id=encrypt_id, token=get_token(args=[f'/api/movie/{encrypt_id}']))\n",
    "    # 获取电影详情\n",
    "    return requests.get(url, verify=False).json()"
   ],
   "metadata": {
    "collapsed": false
   }
  },
  {
   "cell_type": "markdown",
   "source": [
    "## 获取所有电影详情"
   ],
   "metadata": {
    "collapsed": false,
    "ExecuteTime": {
     "end_time": "2023-05-22T09:21:05.737854400Z",
     "start_time": "2023-05-22T09:21:05.730407700Z"
    }
   },
   "outputs": [
    {
     "name": "stdout",
     "output_type": "stream",
     "text": [
      "['/api/movie', '1684747265']\n",
      "YjQyMmQ3ZmZhZDYyM2U4OTIzMGFiMzNiZjc2YTFiZmExMDhmMGRiMSwxNjg0NzQ3MjY1\n"
     ]
    }
   ],
   "execution_count": 20
  },
  {
   "cell_type": "code",
   "execution_count": null,
   "outputs": [],
   "source": [
    "def get_all_mov_detail(mov_list):\n",
    "    # 获取所有电影详情\n",
    "    all_mov_detail = [get_mov_detail(mov['id']) for mov in mov_list['results']]\n",
    "    # 打印获取电影详情的数量\n",
    "    print(f'已成功获取 {len(all_mov_detail)} 部电影详情')\n",
    "    return all_mov_detail"
   ],
   "metadata": {
    "collapsed": false
   }
  },
  {
   "cell_type": "markdown",
   "source": [],
   "metadata": {
    "collapsed": false
   }
  },
  {
   "cell_type": "code",
   "execution_count": null,
   "outputs": [],
   "source": [
    "# 生成1-100的随机数\n",
    "rid = random.randint(1, 100)\n",
    "m_info = get_mov_detail(mov_id=rid)\n",
    "\n",
    "print('电影', rid, '详情：')\n",
    "for key, value in m_info.items():\n",
    "    print(key + \": \", value)"
   ],
   "metadata": {
    "collapsed": false
   }
  }
 ],
 "metadata": {
  "kernelspec": {
   "display_name": "Python 3",
   "language": "python",
   "name": "python3"
  },
  "language_info": {
   "codemirror_mode": {
    "name": "ipython",
    "version": 2
   },
   "file_extension": ".py",
   "mimetype": "text/x-python",
   "name": "python",
   "nbconvert_exporter": "python",
   "pygments_lexer": "ipython2",
   "version": "2.7.6"
  }
 },
 "nbformat": 4,
 "nbformat_minor": 0
}
